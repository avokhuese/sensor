{
  "cells": [
    {
      "cell_type": "code",
      "source": [
        "#@title Configuration parameters\n",
        "#@markdown Forms support many types of fields.\n",
        "\n",
        "dataset_url = 'http://extrasensory.ucsd.edu/data/primary_data_files/ExtraSensory.per_uuid_features_labels.zip'  #@param {type: \"string\"}\n"
      ],
      "metadata": {
        "id": "MEexEmaSfxbC"
      },
      "id": "MEexEmaSfxbC",
      "execution_count": null,
      "outputs": []
    },
    {
      "cell_type": "markdown",
      "id": "25a9a279-b47d-44aa-9ea9-d10253667c88",
      "metadata": {
        "id": "25a9a279-b47d-44aa-9ea9-d10253667c88"
      },
      "source": [
        "# starter code\n",
        "\n",
        "Using sensors to predict activity. This part of the assignment uses the [ExtraSensory dataset](http://extrasensory.ucsd.edu/). You can download the dataset from [here](http://extrasensory.ucsd.edu/data/primary_data_files/ExtraSensory.per_uuid_features_labels.zip). The starter code expects that this dataset has been unpacked in a folder called `data` that is in the same parent folder as this notebook. You can read more about the dataset in [this README file](http://extrasensory.ucsd.edu/data/primary_data_files/README.txt)."
      ]
    },
    {
      "cell_type": "code",
      "execution_count": null,
      "id": "897648f7-43a4-4217-83a8-cb22bbc54e3d",
      "metadata": {
        "id": "897648f7-43a4-4217-83a8-cb22bbc54e3d"
      },
      "outputs": [],
      "source": [
        "import pandas as pd\n",
        "import numpy as np\n",
        "from pathlib import Path\n",
        "import sklearn.metrics as metrics\n",
        "import matplotlib.pyplot as plt\n",
        "\n",
        "from sklearn.linear_model import LogisticRegression\n",
        "from sklearn.preprocessing import StandardScaler\n",
        "from sklearn.impute import SimpleImputer"
      ]
    },
    {
      "cell_type": "markdown",
      "id": "f02ea934-d263-4dc9-965b-fa4d4ae3e977",
      "metadata": {
        "id": "f02ea934-d263-4dc9-965b-fa4d4ae3e977"
      },
      "source": [
        "## Location of the .csv.gz files"
      ]
    },
    {
      "cell_type": "code",
      "execution_count": null,
      "id": "55c960ee-84f2-4b30-90c0-0171abb043f6",
      "metadata": {
        "id": "55c960ee-84f2-4b30-90c0-0171abb043f6",
        "colab": {
          "base_uri": "https://localhost:8080/"
        },
        "outputId": "ad499590-0122-4ef3-d84c-4e1bcf453c16"
      },
      "outputs": [
        {
          "output_type": "stream",
          "name": "stdout",
          "text": [
            "  % Total    % Received % Xferd  Average Speed   Time    Time     Time  Current\n",
            "                                 Dload  Upload   Total   Spent    Left  Speed\n",
            "100  214M  100  214M    0     0  36.2M      0  0:00:05  0:00:05 --:--:-- 41.3M\n",
            "Archive:  data/dataset.zip\n",
            "  inflating: data/00EABED2-271D-49D8-B599-1D4A09240601.features_labels.csv.gz  \n",
            "  inflating: data/098A72A5-E3E5-4F54-A152-BBDA0DF7B694.features_labels.csv.gz  \n",
            "  inflating: data/0A986513-7828-4D53-AA1F-E02D6DF9561B.features_labels.csv.gz  \n",
            "  inflating: data/0BFC35E2-4817-4865-BFA7-764742302A2D.features_labels.csv.gz  \n",
            "  inflating: data/0E6184E1-90C0-48EE-B25A-F1ECB7B9714E.features_labels.csv.gz  \n",
            "  inflating: data/1155FF54-63D3-4AB2-9863-8385D0BD0A13.features_labels.csv.gz  \n",
            "  inflating: data/11B5EC4D-4133-4289-B475-4E737182A406.features_labels.csv.gz  \n",
            "  inflating: data/136562B6-95B2-483D-88DC-065F28409FD2.features_labels.csv.gz  \n",
            "  inflating: data/1538C99F-BA1E-4EFB-A949-6C7C47701B20.features_labels.csv.gz  \n",
            "  inflating: data/1DBB0F6F-1F81-4A50-9DF4-CD62ACFA4842.features_labels.csv.gz  \n",
            "  inflating: data/24E40C4C-A349-4F9F-93AB-01D00FB994AF.features_labels.csv.gz  \n",
            "  inflating: data/27E04243-B138-4F40-A164-F40B60165CF3.features_labels.csv.gz  \n",
            "  inflating: data/2C32C23E-E30C-498A-8DD2-0EFB9150A02E.features_labels.csv.gz  \n",
            "  inflating: data/33A85C34-CFE4-4732-9E73-0A7AC861B27A.features_labels.csv.gz  \n",
            "  inflating: data/3600D531-0C55-44A7-AE95-A7A38519464E.features_labels.csv.gz  \n",
            "  inflating: data/40E170A7-607B-4578-AF04-F021C3B0384A.features_labels.csv.gz  \n",
            "  inflating: data/481F4DD2-7689-43B9-A2AA-C8772227162B.features_labels.csv.gz  \n",
            "  inflating: data/4E98F91F-4654-42EF-B908-A3389443F2E7.features_labels.csv.gz  \n",
            "  inflating: data/4FC32141-E888-4BFF-8804-12559A491D8C.features_labels.csv.gz  \n",
            "  inflating: data/5119D0F8-FCA8-4184-A4EB-19421A40DE0D.features_labels.csv.gz  \n",
            "  inflating: data/5152A2DF-FAF3-4BA8-9CA9-E66B32671A53.features_labels.csv.gz  \n",
            "  inflating: data/59818CD2-24D7-4D32-B133-24C2FE3801E5.features_labels.csv.gz  \n",
            "  inflating: data/59EEFAE0-DEB0-4FFF-9250-54D2A03D0CF2.features_labels.csv.gz  \n",
            "  inflating: data/5EF64122-B513-46AE-BCF1-E62AAC285D2C.features_labels.csv.gz  \n",
            "  inflating: data/61359772-D8D8-480D-B623-7C636EAD0C81.features_labels.csv.gz  \n",
            "  inflating: data/61976C24-1C50-4355-9C49-AAE44A7D09F6.features_labels.csv.gz  \n",
            "  inflating: data/665514DE-49DC-421F-8DCB-145D0B2609AD.features_labels.csv.gz  \n",
            "  inflating: data/74B86067-5D4B-43CF-82CF-341B76BEA0F4.features_labels.csv.gz  \n",
            "  inflating: data/78A91A4E-4A51-4065-BDA7-94755F0BB3BB.features_labels.csv.gz  \n",
            "  inflating: data/797D145F-3858-4A7F-A7C2-A4EB721E133C.features_labels.csv.gz  \n",
            "  inflating: data/7CE37510-56D0-4120-A1CF-0E23351428D2.features_labels.csv.gz  \n",
            "  inflating: data/7D9BB102-A612-4E2A-8E22-3159752F55D8.features_labels.csv.gz  \n",
            "  inflating: data/8023FE1A-D3B0-4E2C-A57A-9321B7FC755F.features_labels.csv.gz  \n",
            "  inflating: data/806289BC-AD52-4CC1-806C-0CDB14D65EB6.features_labels.csv.gz  \n",
            "  inflating: data/81536B0A-8DBF-4D8A-AC24-9543E2E4C8E0.features_labels.csv.gz  \n",
            "  inflating: data/83CF687B-7CEC-434B-9FE8-00C3D5799BE6.features_labels.csv.gz  \n",
            "  inflating: data/86A4F379-B305-473D-9D83-FC7D800180EF.features_labels.csv.gz  \n",
            "  inflating: data/96A358A0-FFF2-4239-B93E-C7425B901B47.features_labels.csv.gz  \n",
            "  inflating: data/9759096F-1119-4E19-A0AD-6F16989C7E1C.features_labels.csv.gz  \n",
            "  inflating: data/99B204C0-DD5C-4BB7-83E8-A37281B8D769.features_labels.csv.gz  \n",
            "  inflating: data/9DC38D04-E82E-4F29-AB52-B476535226F2.features_labels.csv.gz  \n",
            "  inflating: data/A5A30F76-581E-4757-97A2-957553A2C6AA.features_labels.csv.gz  \n",
            "  inflating: data/A5CDF89D-02A2-4EC1-89F8-F534FDABDD96.features_labels.csv.gz  \n",
            "  inflating: data/A7599A50-24AE-46A6-8EA6-2576F1011D81.features_labels.csv.gz  \n",
            "  inflating: data/A76A5AF5-5A93-4CF2-A16E-62353BB70E8A.features_labels.csv.gz  \n",
            "  inflating: data/B09E373F-8A54-44C8-895B-0039390B859F.features_labels.csv.gz  \n",
            "  inflating: data/B7F9D634-263E-4A97-87F9-6FFB4DDCB36C.features_labels.csv.gz  \n",
            "  inflating: data/B9724848-C7E2-45F4-9B3F-A1F38D864495.features_labels.csv.gz  \n",
            "  inflating: data/BE3CA5A6-A561-4BBD-B7C9-5DF6805400FC.features_labels.csv.gz  \n",
            "  inflating: data/BEF6C611-50DA-4971-A040-87FB979F3FC1.features_labels.csv.gz  \n",
            "  inflating: data/C48CE857-A0DD-4DDB-BEA5-3A25449B2153.features_labels.csv.gz  \n",
            "  inflating: data/CA820D43-E5E2-42EF-9798-BE56F776370B.features_labels.csv.gz  \n",
            "  inflating: data/CCAF77F0-FABB-4F2F-9E24-D56AD0C5A82F.features_labels.csv.gz  \n",
            "  inflating: data/CDA3BBF7-6631-45E8-85BA-EEB416B32A3C.features_labels.csv.gz  \n",
            "  inflating: data/CF722AA9-2533-4E51-9FEB-9EAC84EE9AAC.features_labels.csv.gz  \n",
            "  inflating: data/D7D20E2E-FC78-405D-B346-DBD3FD8FC92B.features_labels.csv.gz  \n",
            "  inflating: data/E65577C1-8D5D-4F70-AF23-B3ADB9D3DBA3.features_labels.csv.gz  \n",
            "  inflating: data/ECECC2AB-D32F-4F90-B74C-E12A1C69BBE2.features_labels.csv.gz  \n",
            "  inflating: data/F50235E0-DD67-4F2A-B00B-1F31ADA998B9.features_labels.csv.gz  \n",
            "  inflating: data/FDAA70A1-42A3-4E3F-9AE3-3FDA412E03BF.features_labels.csv.gz  \n"
          ]
        }
      ],
      "source": [
        "data_dir = Path('data')\n",
        "\n",
        "!mkdir -p $data_dir\n",
        "!curl $dataset_url > $data_dir/dataset.zip\n",
        "!unzip -o $data_dir/dataset.zip -d $data_dir/\n",
        "!rm $data_dir/dataset.zip"
      ]
    },
    {
      "cell_type": "markdown",
      "id": "8d941e9d-540a-4bf1-a98f-4bd36cb502b2",
      "metadata": {
        "id": "8d941e9d-540a-4bf1-a98f-4bd36cb502b2"
      },
      "source": [
        "## Some utility functions\n",
        "\n",
        "The first one loads a pandas dataframe given a user UUID. The second one extracts specified feature columns $X$ and target column $y$ from a dataframe and converts these to numpy."
      ]
    },
    {
      "cell_type": "code",
      "execution_count": null,
      "id": "5375caaf-5b51-42a9-a746-d585a7831c3a",
      "metadata": {
        "id": "5375caaf-5b51-42a9-a746-d585a7831c3a"
      },
      "outputs": [],
      "source": [
        "def load_data_for_user(uuid):\n",
        "    return pd.read_csv(data_dir / (uuid + '.features_labels.csv.gz'))\n",
        "\n",
        "def get_features_and_target(df, feature_names, target_name):\n",
        "    \n",
        "    # select out features and target columns and convert to numpy\n",
        "    X = df[feature_names].to_numpy()\n",
        "    y = df[target_name].to_numpy()\n",
        "    \n",
        "    # remove examples with no label\n",
        "    has_label = ~np.isnan(y)\n",
        "    X = X[has_label,:]\n",
        "    y = y[has_label]\n",
        "    return X, y\n",
        "\n",
        "def get_dataset_for_user(uuid):\n",
        "  \n",
        "  df = load_data_for_user(uuid)\n",
        "  X, y = get_features_and_target(df, acc_sensors, target_column)\n",
        "\n",
        "  return X, y\n",
        "\n",
        "def print_classifier_accuracy(clf, X_test, y_test, label=''):\n",
        "  score = clf.score(X_test, y_test)\n",
        "  print(f'Score for classifier {label}: {score:0.4f}')\n",
        "  \n",
        "  y_pred = clf.predict(X_test)\n",
        "  accuracy = metrics.balanced_accuracy_score(y_test, y_pred)\n",
        "  print(f'Balanced accuracy for classifier {label}: {accuracy:0.4f}')\n",
        "\n",
        "  precision = metrics.precision_score(y_test, y_pred)\n",
        "  print(f'Precision score for classifier {label}: {precision:0.4f}')\n",
        "  \n",
        "  recall = metrics.recall_score(y_test, y_pred)\n",
        "  print(f'Recall score for classifier {label}: {recall:0.4f}')\n",
        "\n",
        "  f1 = metrics.f1_score(y_test, y_pred)\n",
        "  print(f'F1-score for classifier {label}: {f1:0.4f}')\n",
        "\n",
        "  roc_auc = metrics.roc_auc_score(y_test, y_pred)\n",
        "  print(f'ROC-AUC score for classifier {label}: {f1:0.4f}')\n"
      ]
    },
    {
      "cell_type": "markdown",
      "id": "905d5f3a-7eb3-4723-aff7-73f031acaea0",
      "metadata": {
        "id": "905d5f3a-7eb3-4723-aff7-73f031acaea0"
      },
      "source": [
        "## Load in some data \n",
        "Load in the data for a user and display the first few rows of the dataframe"
      ]
    },
    {
      "cell_type": "code",
      "execution_count": null,
      "id": "17270baa-1152-4d01-91b8-0f9fe8a2f779",
      "metadata": {
        "id": "17270baa-1152-4d01-91b8-0f9fe8a2f779",
        "colab": {
          "base_uri": "https://localhost:8080/",
          "height": 232
        },
        "outputId": "0d3bd4b0-90fc-449e-f215-df9884c3fafd"
      },
      "outputs": [
        {
          "output_type": "execute_result",
          "data": {
            "text/plain": [
              "    timestamp  raw_acc:magnitude_stats:mean  raw_acc:magnitude_stats:std  \\\n",
              "0  1464129912                      1.011438                     0.012573   \n",
              "1  1464129950                      1.011233                     0.009356   \n",
              "2  1464130031                      1.013422                     0.018068   \n",
              "3  1464130109                      1.014891                     0.016400   \n",
              "4  1464130130                      1.017487                     0.022632   \n",
              "\n",
              "   raw_acc:magnitude_stats:moment3  raw_acc:magnitude_stats:moment4  \\\n",
              "0                         0.023013                         0.041240   \n",
              "1                        -0.005622                         0.016687   \n",
              "2                        -0.008593                         0.039286   \n",
              "3                         0.021383                         0.038825   \n",
              "4                        -0.012891                         0.037226   \n",
              "\n",
              "   raw_acc:magnitude_stats:percentile25  raw_acc:magnitude_stats:percentile50  \\\n",
              "0                              1.006184                              1.010868   \n",
              "1                              1.006338                              1.010926   \n",
              "2                              1.004077                              1.012983   \n",
              "3                              1.005934                              1.014670   \n",
              "4                              1.006040                              1.017587   \n",
              "\n",
              "   raw_acc:magnitude_stats:percentile75  \\\n",
              "0                              1.016028   \n",
              "1                              1.016657   \n",
              "2                              1.021926   \n",
              "3                              1.023000   \n",
              "4                              1.028168   \n",
              "\n",
              "   raw_acc:magnitude_stats:value_entropy  \\\n",
              "0                               0.935099   \n",
              "1                               1.732968   \n",
              "2                               1.464639   \n",
              "3                               1.440043   \n",
              "4                               1.937362   \n",
              "\n",
              "   raw_acc:magnitude_stats:time_entropy  ...  label:STAIRS_-_GOING_DOWN  \\\n",
              "0                              6.684536  ...                        0.0   \n",
              "1                              6.684569  ...                        0.0   \n",
              "2                              6.684453  ...                        0.0   \n",
              "3                              6.684483  ...                        0.0   \n",
              "4                              6.684364  ...                        0.0   \n",
              "\n",
              "   label:ELEVATOR  label:OR_standing  label:AT_SCHOOL  label:PHONE_IN_HAND  \\\n",
              "0             NaN                0.0              0.0                  NaN   \n",
              "1             NaN                0.0              0.0                  NaN   \n",
              "2             NaN                0.0              0.0                  NaN   \n",
              "3             NaN                0.0              0.0                  NaN   \n",
              "4             NaN                0.0              0.0                  NaN   \n",
              "\n",
              "   label:PHONE_IN_BAG  label:PHONE_ON_TABLE  label:WITH_CO-WORKERS  \\\n",
              "0                 NaN                   NaN                    1.0   \n",
              "1                 NaN                   NaN                    1.0   \n",
              "2                 NaN                   NaN                    1.0   \n",
              "3                 NaN                   NaN                    1.0   \n",
              "4                 NaN                   NaN                    1.0   \n",
              "\n",
              "   label:WITH_FRIENDS  label_source  \n",
              "0                 0.0             2  \n",
              "1                 0.0             2  \n",
              "2                 0.0             2  \n",
              "3                 0.0             2  \n",
              "4                 0.0             2  \n",
              "\n",
              "[5 rows x 278 columns]"
            ],
            "text/html": [
              "\n",
              "  <div id=\"df-2cbb3173-2fb0-455e-ae23-81dec66c205b\">\n",
              "    <div class=\"colab-df-container\">\n",
              "      <div>\n",
              "<style scoped>\n",
              "    .dataframe tbody tr th:only-of-type {\n",
              "        vertical-align: middle;\n",
              "    }\n",
              "\n",
              "    .dataframe tbody tr th {\n",
              "        vertical-align: top;\n",
              "    }\n",
              "\n",
              "    .dataframe thead th {\n",
              "        text-align: right;\n",
              "    }\n",
              "</style>\n",
              "<table border=\"1\" class=\"dataframe\">\n",
              "  <thead>\n",
              "    <tr style=\"text-align: right;\">\n",
              "      <th></th>\n",
              "      <th>timestamp</th>\n",
              "      <th>raw_acc:magnitude_stats:mean</th>\n",
              "      <th>raw_acc:magnitude_stats:std</th>\n",
              "      <th>raw_acc:magnitude_stats:moment3</th>\n",
              "      <th>raw_acc:magnitude_stats:moment4</th>\n",
              "      <th>raw_acc:magnitude_stats:percentile25</th>\n",
              "      <th>raw_acc:magnitude_stats:percentile50</th>\n",
              "      <th>raw_acc:magnitude_stats:percentile75</th>\n",
              "      <th>raw_acc:magnitude_stats:value_entropy</th>\n",
              "      <th>raw_acc:magnitude_stats:time_entropy</th>\n",
              "      <th>...</th>\n",
              "      <th>label:STAIRS_-_GOING_DOWN</th>\n",
              "      <th>label:ELEVATOR</th>\n",
              "      <th>label:OR_standing</th>\n",
              "      <th>label:AT_SCHOOL</th>\n",
              "      <th>label:PHONE_IN_HAND</th>\n",
              "      <th>label:PHONE_IN_BAG</th>\n",
              "      <th>label:PHONE_ON_TABLE</th>\n",
              "      <th>label:WITH_CO-WORKERS</th>\n",
              "      <th>label:WITH_FRIENDS</th>\n",
              "      <th>label_source</th>\n",
              "    </tr>\n",
              "  </thead>\n",
              "  <tbody>\n",
              "    <tr>\n",
              "      <th>0</th>\n",
              "      <td>1464129912</td>\n",
              "      <td>1.011438</td>\n",
              "      <td>0.012573</td>\n",
              "      <td>0.023013</td>\n",
              "      <td>0.041240</td>\n",
              "      <td>1.006184</td>\n",
              "      <td>1.010868</td>\n",
              "      <td>1.016028</td>\n",
              "      <td>0.935099</td>\n",
              "      <td>6.684536</td>\n",
              "      <td>...</td>\n",
              "      <td>0.0</td>\n",
              "      <td>NaN</td>\n",
              "      <td>0.0</td>\n",
              "      <td>0.0</td>\n",
              "      <td>NaN</td>\n",
              "      <td>NaN</td>\n",
              "      <td>NaN</td>\n",
              "      <td>1.0</td>\n",
              "      <td>0.0</td>\n",
              "      <td>2</td>\n",
              "    </tr>\n",
              "    <tr>\n",
              "      <th>1</th>\n",
              "      <td>1464129950</td>\n",
              "      <td>1.011233</td>\n",
              "      <td>0.009356</td>\n",
              "      <td>-0.005622</td>\n",
              "      <td>0.016687</td>\n",
              "      <td>1.006338</td>\n",
              "      <td>1.010926</td>\n",
              "      <td>1.016657</td>\n",
              "      <td>1.732968</td>\n",
              "      <td>6.684569</td>\n",
              "      <td>...</td>\n",
              "      <td>0.0</td>\n",
              "      <td>NaN</td>\n",
              "      <td>0.0</td>\n",
              "      <td>0.0</td>\n",
              "      <td>NaN</td>\n",
              "      <td>NaN</td>\n",
              "      <td>NaN</td>\n",
              "      <td>1.0</td>\n",
              "      <td>0.0</td>\n",
              "      <td>2</td>\n",
              "    </tr>\n",
              "    <tr>\n",
              "      <th>2</th>\n",
              "      <td>1464130031</td>\n",
              "      <td>1.013422</td>\n",
              "      <td>0.018068</td>\n",
              "      <td>-0.008593</td>\n",
              "      <td>0.039286</td>\n",
              "      <td>1.004077</td>\n",
              "      <td>1.012983</td>\n",
              "      <td>1.021926</td>\n",
              "      <td>1.464639</td>\n",
              "      <td>6.684453</td>\n",
              "      <td>...</td>\n",
              "      <td>0.0</td>\n",
              "      <td>NaN</td>\n",
              "      <td>0.0</td>\n",
              "      <td>0.0</td>\n",
              "      <td>NaN</td>\n",
              "      <td>NaN</td>\n",
              "      <td>NaN</td>\n",
              "      <td>1.0</td>\n",
              "      <td>0.0</td>\n",
              "      <td>2</td>\n",
              "    </tr>\n",
              "    <tr>\n",
              "      <th>3</th>\n",
              "      <td>1464130109</td>\n",
              "      <td>1.014891</td>\n",
              "      <td>0.016400</td>\n",
              "      <td>0.021383</td>\n",
              "      <td>0.038825</td>\n",
              "      <td>1.005934</td>\n",
              "      <td>1.014670</td>\n",
              "      <td>1.023000</td>\n",
              "      <td>1.440043</td>\n",
              "      <td>6.684483</td>\n",
              "      <td>...</td>\n",
              "      <td>0.0</td>\n",
              "      <td>NaN</td>\n",
              "      <td>0.0</td>\n",
              "      <td>0.0</td>\n",
              "      <td>NaN</td>\n",
              "      <td>NaN</td>\n",
              "      <td>NaN</td>\n",
              "      <td>1.0</td>\n",
              "      <td>0.0</td>\n",
              "      <td>2</td>\n",
              "    </tr>\n",
              "    <tr>\n",
              "      <th>4</th>\n",
              "      <td>1464130130</td>\n",
              "      <td>1.017487</td>\n",
              "      <td>0.022632</td>\n",
              "      <td>-0.012891</td>\n",
              "      <td>0.037226</td>\n",
              "      <td>1.006040</td>\n",
              "      <td>1.017587</td>\n",
              "      <td>1.028168</td>\n",
              "      <td>1.937362</td>\n",
              "      <td>6.684364</td>\n",
              "      <td>...</td>\n",
              "      <td>0.0</td>\n",
              "      <td>NaN</td>\n",
              "      <td>0.0</td>\n",
              "      <td>0.0</td>\n",
              "      <td>NaN</td>\n",
              "      <td>NaN</td>\n",
              "      <td>NaN</td>\n",
              "      <td>1.0</td>\n",
              "      <td>0.0</td>\n",
              "      <td>2</td>\n",
              "    </tr>\n",
              "  </tbody>\n",
              "</table>\n",
              "<p>5 rows × 278 columns</p>\n",
              "</div>\n",
              "      <button class=\"colab-df-convert\" onclick=\"convertToInteractive('df-2cbb3173-2fb0-455e-ae23-81dec66c205b')\"\n",
              "              title=\"Convert this dataframe to an interactive table.\"\n",
              "              style=\"display:none;\">\n",
              "        \n",
              "  <svg xmlns=\"http://www.w3.org/2000/svg\" height=\"24px\"viewBox=\"0 0 24 24\"\n",
              "       width=\"24px\">\n",
              "    <path d=\"M0 0h24v24H0V0z\" fill=\"none\"/>\n",
              "    <path d=\"M18.56 5.44l.94 2.06.94-2.06 2.06-.94-2.06-.94-.94-2.06-.94 2.06-2.06.94zm-11 1L8.5 8.5l.94-2.06 2.06-.94-2.06-.94L8.5 2.5l-.94 2.06-2.06.94zm10 10l.94 2.06.94-2.06 2.06-.94-2.06-.94-.94-2.06-.94 2.06-2.06.94z\"/><path d=\"M17.41 7.96l-1.37-1.37c-.4-.4-.92-.59-1.43-.59-.52 0-1.04.2-1.43.59L10.3 9.45l-7.72 7.72c-.78.78-.78 2.05 0 2.83L4 21.41c.39.39.9.59 1.41.59.51 0 1.02-.2 1.41-.59l7.78-7.78 2.81-2.81c.8-.78.8-2.07 0-2.86zM5.41 20L4 18.59l7.72-7.72 1.47 1.35L5.41 20z\"/>\n",
              "  </svg>\n",
              "      </button>\n",
              "      \n",
              "  <style>\n",
              "    .colab-df-container {\n",
              "      display:flex;\n",
              "      flex-wrap:wrap;\n",
              "      gap: 12px;\n",
              "    }\n",
              "\n",
              "    .colab-df-convert {\n",
              "      background-color: #E8F0FE;\n",
              "      border: none;\n",
              "      border-radius: 50%;\n",
              "      cursor: pointer;\n",
              "      display: none;\n",
              "      fill: #1967D2;\n",
              "      height: 32px;\n",
              "      padding: 0 0 0 0;\n",
              "      width: 32px;\n",
              "    }\n",
              "\n",
              "    .colab-df-convert:hover {\n",
              "      background-color: #E2EBFA;\n",
              "      box-shadow: 0px 1px 2px rgba(60, 64, 67, 0.3), 0px 1px 3px 1px rgba(60, 64, 67, 0.15);\n",
              "      fill: #174EA6;\n",
              "    }\n",
              "\n",
              "    [theme=dark] .colab-df-convert {\n",
              "      background-color: #3B4455;\n",
              "      fill: #D2E3FC;\n",
              "    }\n",
              "\n",
              "    [theme=dark] .colab-df-convert:hover {\n",
              "      background-color: #434B5C;\n",
              "      box-shadow: 0px 1px 3px 1px rgba(0, 0, 0, 0.15);\n",
              "      filter: drop-shadow(0px 1px 2px rgba(0, 0, 0, 0.3));\n",
              "      fill: #FFFFFF;\n",
              "    }\n",
              "  </style>\n",
              "\n",
              "      <script>\n",
              "        const buttonEl =\n",
              "          document.querySelector('#df-2cbb3173-2fb0-455e-ae23-81dec66c205b button.colab-df-convert');\n",
              "        buttonEl.style.display =\n",
              "          google.colab.kernel.accessAllowed ? 'block' : 'none';\n",
              "\n",
              "        async function convertToInteractive(key) {\n",
              "          const element = document.querySelector('#df-2cbb3173-2fb0-455e-ae23-81dec66c205b');\n",
              "          const dataTable =\n",
              "            await google.colab.kernel.invokeFunction('convertToInteractive',\n",
              "                                                     [key], {});\n",
              "          if (!dataTable) return;\n",
              "\n",
              "          const docLinkHtml = 'Like what you see? Visit the ' +\n",
              "            '<a target=\"_blank\" href=https://colab.research.google.com/notebooks/data_table.ipynb>data table notebook</a>'\n",
              "            + ' to learn more about interactive tables.';\n",
              "          element.innerHTML = '';\n",
              "          dataTable['output_type'] = 'display_data';\n",
              "          await google.colab.output.renderOutput(dataTable, element);\n",
              "          const docLink = document.createElement('div');\n",
              "          docLink.innerHTML = docLinkHtml;\n",
              "          element.appendChild(docLink);\n",
              "        }\n",
              "      </script>\n",
              "    </div>\n",
              "  </div>\n",
              "  "
            ]
          },
          "metadata": {},
          "execution_count": 5
        },
        {
          "output_type": "stream",
          "name": "stdout",
          "text": [
            "Warning: Total number of columns (278) exceeds max_columns (20) limiting to first (20) columns.\n"
          ]
        }
      ],
      "source": [
        "initial_uuid = '1155FF54-63D3-4AB2-9863-8385D0BD0A13'\n",
        "df = load_data_for_user(initial_uuid)\n",
        "df.head()"
      ]
    },
    {
      "cell_type": "markdown",
      "id": "5fd70239-1295-485d-a9e8-16f6d441e818",
      "metadata": {
        "id": "5fd70239-1295-485d-a9e8-16f6d441e818"
      },
      "source": [
        "## What columns are available?"
      ]
    },
    {
      "cell_type": "code",
      "execution_count": null,
      "id": "dc216774-2ce2-42c4-afdb-fcd8d7a78402",
      "metadata": {
        "id": "dc216774-2ce2-42c4-afdb-fcd8d7a78402",
        "colab": {
          "base_uri": "https://localhost:8080/"
        },
        "outputId": "47fed2f9-32ee-4d1d-fe85-160fd9c30453"
      },
      "outputs": [
        {
          "output_type": "execute_result",
          "data": {
            "text/plain": [
              "['timestamp',\n",
              " 'raw_acc:magnitude_stats:mean',\n",
              " 'raw_acc:magnitude_stats:std',\n",
              " 'raw_acc:magnitude_stats:moment3',\n",
              " 'raw_acc:magnitude_stats:moment4',\n",
              " 'raw_acc:magnitude_stats:percentile25',\n",
              " 'raw_acc:magnitude_stats:percentile50',\n",
              " 'raw_acc:magnitude_stats:percentile75',\n",
              " 'raw_acc:magnitude_stats:value_entropy',\n",
              " 'raw_acc:magnitude_stats:time_entropy',\n",
              " 'raw_acc:magnitude_spectrum:log_energy_band0',\n",
              " 'raw_acc:magnitude_spectrum:log_energy_band1',\n",
              " 'raw_acc:magnitude_spectrum:log_energy_band2',\n",
              " 'raw_acc:magnitude_spectrum:log_energy_band3',\n",
              " 'raw_acc:magnitude_spectrum:log_energy_band4',\n",
              " 'raw_acc:magnitude_spectrum:spectral_entropy',\n",
              " 'raw_acc:magnitude_autocorrelation:period',\n",
              " 'raw_acc:magnitude_autocorrelation:normalized_ac',\n",
              " 'raw_acc:3d:mean_x',\n",
              " 'raw_acc:3d:mean_y',\n",
              " 'raw_acc:3d:mean_z',\n",
              " 'raw_acc:3d:std_x',\n",
              " 'raw_acc:3d:std_y',\n",
              " 'raw_acc:3d:std_z',\n",
              " 'raw_acc:3d:ro_xy',\n",
              " 'raw_acc:3d:ro_xz',\n",
              " 'raw_acc:3d:ro_yz',\n",
              " 'proc_gyro:magnitude_stats:mean',\n",
              " 'proc_gyro:magnitude_stats:std',\n",
              " 'proc_gyro:magnitude_stats:moment3',\n",
              " 'proc_gyro:magnitude_stats:moment4',\n",
              " 'proc_gyro:magnitude_stats:percentile25',\n",
              " 'proc_gyro:magnitude_stats:percentile50',\n",
              " 'proc_gyro:magnitude_stats:percentile75',\n",
              " 'proc_gyro:magnitude_stats:value_entropy',\n",
              " 'proc_gyro:magnitude_stats:time_entropy',\n",
              " 'proc_gyro:magnitude_spectrum:log_energy_band0',\n",
              " 'proc_gyro:magnitude_spectrum:log_energy_band1',\n",
              " 'proc_gyro:magnitude_spectrum:log_energy_band2',\n",
              " 'proc_gyro:magnitude_spectrum:log_energy_band3',\n",
              " 'proc_gyro:magnitude_spectrum:log_energy_band4',\n",
              " 'proc_gyro:magnitude_spectrum:spectral_entropy',\n",
              " 'proc_gyro:magnitude_autocorrelation:period',\n",
              " 'proc_gyro:magnitude_autocorrelation:normalized_ac',\n",
              " 'proc_gyro:3d:mean_x',\n",
              " 'proc_gyro:3d:mean_y',\n",
              " 'proc_gyro:3d:mean_z',\n",
              " 'proc_gyro:3d:std_x',\n",
              " 'proc_gyro:3d:std_y',\n",
              " 'proc_gyro:3d:std_z',\n",
              " 'proc_gyro:3d:ro_xy',\n",
              " 'proc_gyro:3d:ro_xz',\n",
              " 'proc_gyro:3d:ro_yz',\n",
              " 'raw_magnet:magnitude_stats:mean',\n",
              " 'raw_magnet:magnitude_stats:std',\n",
              " 'raw_magnet:magnitude_stats:moment3',\n",
              " 'raw_magnet:magnitude_stats:moment4',\n",
              " 'raw_magnet:magnitude_stats:percentile25',\n",
              " 'raw_magnet:magnitude_stats:percentile50',\n",
              " 'raw_magnet:magnitude_stats:percentile75',\n",
              " 'raw_magnet:magnitude_stats:value_entropy',\n",
              " 'raw_magnet:magnitude_stats:time_entropy',\n",
              " 'raw_magnet:magnitude_spectrum:log_energy_band0',\n",
              " 'raw_magnet:magnitude_spectrum:log_energy_band1',\n",
              " 'raw_magnet:magnitude_spectrum:log_energy_band2',\n",
              " 'raw_magnet:magnitude_spectrum:log_energy_band3',\n",
              " 'raw_magnet:magnitude_spectrum:log_energy_band4',\n",
              " 'raw_magnet:magnitude_spectrum:spectral_entropy',\n",
              " 'raw_magnet:magnitude_autocorrelation:period',\n",
              " 'raw_magnet:magnitude_autocorrelation:normalized_ac',\n",
              " 'raw_magnet:3d:mean_x',\n",
              " 'raw_magnet:3d:mean_y',\n",
              " 'raw_magnet:3d:mean_z',\n",
              " 'raw_magnet:3d:std_x',\n",
              " 'raw_magnet:3d:std_y',\n",
              " 'raw_magnet:3d:std_z',\n",
              " 'raw_magnet:3d:ro_xy',\n",
              " 'raw_magnet:3d:ro_xz',\n",
              " 'raw_magnet:3d:ro_yz',\n",
              " 'raw_magnet:avr_cosine_similarity_lag_range0',\n",
              " 'raw_magnet:avr_cosine_similarity_lag_range1',\n",
              " 'raw_magnet:avr_cosine_similarity_lag_range2',\n",
              " 'raw_magnet:avr_cosine_similarity_lag_range3',\n",
              " 'raw_magnet:avr_cosine_similarity_lag_range4',\n",
              " 'watch_acceleration:magnitude_stats:mean',\n",
              " 'watch_acceleration:magnitude_stats:std',\n",
              " 'watch_acceleration:magnitude_stats:moment3',\n",
              " 'watch_acceleration:magnitude_stats:moment4',\n",
              " 'watch_acceleration:magnitude_stats:percentile25',\n",
              " 'watch_acceleration:magnitude_stats:percentile50',\n",
              " 'watch_acceleration:magnitude_stats:percentile75',\n",
              " 'watch_acceleration:magnitude_stats:value_entropy',\n",
              " 'watch_acceleration:magnitude_stats:time_entropy',\n",
              " 'watch_acceleration:magnitude_spectrum:log_energy_band0',\n",
              " 'watch_acceleration:magnitude_spectrum:log_energy_band1',\n",
              " 'watch_acceleration:magnitude_spectrum:log_energy_band2',\n",
              " 'watch_acceleration:magnitude_spectrum:log_energy_band3',\n",
              " 'watch_acceleration:magnitude_spectrum:log_energy_band4',\n",
              " 'watch_acceleration:magnitude_spectrum:spectral_entropy',\n",
              " 'watch_acceleration:magnitude_autocorrelation:period',\n",
              " 'watch_acceleration:magnitude_autocorrelation:normalized_ac',\n",
              " 'watch_acceleration:3d:mean_x',\n",
              " 'watch_acceleration:3d:mean_y',\n",
              " 'watch_acceleration:3d:mean_z',\n",
              " 'watch_acceleration:3d:std_x',\n",
              " 'watch_acceleration:3d:std_y',\n",
              " 'watch_acceleration:3d:std_z',\n",
              " 'watch_acceleration:3d:ro_xy',\n",
              " 'watch_acceleration:3d:ro_xz',\n",
              " 'watch_acceleration:3d:ro_yz',\n",
              " 'watch_acceleration:spectrum:x_log_energy_band0',\n",
              " 'watch_acceleration:spectrum:x_log_energy_band1',\n",
              " 'watch_acceleration:spectrum:x_log_energy_band2',\n",
              " 'watch_acceleration:spectrum:x_log_energy_band3',\n",
              " 'watch_acceleration:spectrum:x_log_energy_band4',\n",
              " 'watch_acceleration:spectrum:y_log_energy_band0',\n",
              " 'watch_acceleration:spectrum:y_log_energy_band1',\n",
              " 'watch_acceleration:spectrum:y_log_energy_band2',\n",
              " 'watch_acceleration:spectrum:y_log_energy_band3',\n",
              " 'watch_acceleration:spectrum:y_log_energy_band4',\n",
              " 'watch_acceleration:spectrum:z_log_energy_band0',\n",
              " 'watch_acceleration:spectrum:z_log_energy_band1',\n",
              " 'watch_acceleration:spectrum:z_log_energy_band2',\n",
              " 'watch_acceleration:spectrum:z_log_energy_band3',\n",
              " 'watch_acceleration:spectrum:z_log_energy_band4',\n",
              " 'watch_acceleration:relative_directions:avr_cosine_similarity_lag_range0',\n",
              " 'watch_acceleration:relative_directions:avr_cosine_similarity_lag_range1',\n",
              " 'watch_acceleration:relative_directions:avr_cosine_similarity_lag_range2',\n",
              " 'watch_acceleration:relative_directions:avr_cosine_similarity_lag_range3',\n",
              " 'watch_acceleration:relative_directions:avr_cosine_similarity_lag_range4',\n",
              " 'watch_heading:mean_cos',\n",
              " 'watch_heading:std_cos',\n",
              " 'watch_heading:mom3_cos',\n",
              " 'watch_heading:mom4_cos',\n",
              " 'watch_heading:mean_sin',\n",
              " 'watch_heading:std_sin',\n",
              " 'watch_heading:mom3_sin',\n",
              " 'watch_heading:mom4_sin',\n",
              " 'watch_heading:entropy_8bins',\n",
              " 'location:num_valid_updates',\n",
              " 'location:log_latitude_range',\n",
              " 'location:log_longitude_range',\n",
              " 'location:min_altitude',\n",
              " 'location:max_altitude',\n",
              " 'location:min_speed',\n",
              " 'location:max_speed',\n",
              " 'location:best_horizontal_accuracy',\n",
              " 'location:best_vertical_accuracy',\n",
              " 'location:diameter',\n",
              " 'location:log_diameter',\n",
              " 'location_quick_features:std_lat',\n",
              " 'location_quick_features:std_long',\n",
              " 'location_quick_features:lat_change',\n",
              " 'location_quick_features:long_change',\n",
              " 'location_quick_features:mean_abs_lat_deriv',\n",
              " 'location_quick_features:mean_abs_long_deriv',\n",
              " 'audio_naive:mfcc0:mean',\n",
              " 'audio_naive:mfcc1:mean',\n",
              " 'audio_naive:mfcc2:mean',\n",
              " 'audio_naive:mfcc3:mean',\n",
              " 'audio_naive:mfcc4:mean',\n",
              " 'audio_naive:mfcc5:mean',\n",
              " 'audio_naive:mfcc6:mean',\n",
              " 'audio_naive:mfcc7:mean',\n",
              " 'audio_naive:mfcc8:mean',\n",
              " 'audio_naive:mfcc9:mean',\n",
              " 'audio_naive:mfcc10:mean',\n",
              " 'audio_naive:mfcc11:mean',\n",
              " 'audio_naive:mfcc12:mean',\n",
              " 'audio_naive:mfcc0:std',\n",
              " 'audio_naive:mfcc1:std',\n",
              " 'audio_naive:mfcc2:std',\n",
              " 'audio_naive:mfcc3:std',\n",
              " 'audio_naive:mfcc4:std',\n",
              " 'audio_naive:mfcc5:std',\n",
              " 'audio_naive:mfcc6:std',\n",
              " 'audio_naive:mfcc7:std',\n",
              " 'audio_naive:mfcc8:std',\n",
              " 'audio_naive:mfcc9:std',\n",
              " 'audio_naive:mfcc10:std',\n",
              " 'audio_naive:mfcc11:std',\n",
              " 'audio_naive:mfcc12:std',\n",
              " 'audio_properties:max_abs_value',\n",
              " 'audio_properties:normalization_multiplier',\n",
              " 'discrete:app_state:is_active',\n",
              " 'discrete:app_state:is_inactive',\n",
              " 'discrete:app_state:is_background',\n",
              " 'discrete:app_state:missing',\n",
              " 'discrete:battery_plugged:is_ac',\n",
              " 'discrete:battery_plugged:is_usb',\n",
              " 'discrete:battery_plugged:is_wireless',\n",
              " 'discrete:battery_plugged:missing',\n",
              " 'discrete:battery_state:is_unknown',\n",
              " 'discrete:battery_state:is_unplugged',\n",
              " 'discrete:battery_state:is_not_charging',\n",
              " 'discrete:battery_state:is_discharging',\n",
              " 'discrete:battery_state:is_charging',\n",
              " 'discrete:battery_state:is_full',\n",
              " 'discrete:battery_state:missing',\n",
              " 'discrete:on_the_phone:is_False',\n",
              " 'discrete:on_the_phone:is_True',\n",
              " 'discrete:on_the_phone:missing',\n",
              " 'discrete:ringer_mode:is_normal',\n",
              " 'discrete:ringer_mode:is_silent_no_vibrate',\n",
              " 'discrete:ringer_mode:is_silent_with_vibrate',\n",
              " 'discrete:ringer_mode:missing',\n",
              " 'discrete:wifi_status:is_not_reachable',\n",
              " 'discrete:wifi_status:is_reachable_via_wifi',\n",
              " 'discrete:wifi_status:is_reachable_via_wwan',\n",
              " 'discrete:wifi_status:missing',\n",
              " 'lf_measurements:light',\n",
              " 'lf_measurements:pressure',\n",
              " 'lf_measurements:proximity_cm',\n",
              " 'lf_measurements:proximity',\n",
              " 'lf_measurements:relative_humidity',\n",
              " 'lf_measurements:battery_level',\n",
              " 'lf_measurements:screen_brightness',\n",
              " 'lf_measurements:temperature_ambient',\n",
              " 'discrete:time_of_day:between0and6',\n",
              " 'discrete:time_of_day:between3and9',\n",
              " 'discrete:time_of_day:between6and12',\n",
              " 'discrete:time_of_day:between9and15',\n",
              " 'discrete:time_of_day:between12and18',\n",
              " 'discrete:time_of_day:between15and21',\n",
              " 'discrete:time_of_day:between18and24',\n",
              " 'discrete:time_of_day:between21and3',\n",
              " 'label:LYING_DOWN',\n",
              " 'label:SITTING',\n",
              " 'label:FIX_walking',\n",
              " 'label:FIX_running',\n",
              " 'label:BICYCLING',\n",
              " 'label:SLEEPING',\n",
              " 'label:LAB_WORK',\n",
              " 'label:IN_CLASS',\n",
              " 'label:IN_A_MEETING',\n",
              " 'label:LOC_main_workplace',\n",
              " 'label:OR_indoors',\n",
              " 'label:OR_outside',\n",
              " 'label:IN_A_CAR',\n",
              " 'label:ON_A_BUS',\n",
              " 'label:DRIVE_-_I_M_THE_DRIVER',\n",
              " 'label:DRIVE_-_I_M_A_PASSENGER',\n",
              " 'label:LOC_home',\n",
              " 'label:FIX_restaurant',\n",
              " 'label:PHONE_IN_POCKET',\n",
              " 'label:OR_exercise',\n",
              " 'label:COOKING',\n",
              " 'label:SHOPPING',\n",
              " 'label:STROLLING',\n",
              " 'label:DRINKING__ALCOHOL_',\n",
              " 'label:BATHING_-_SHOWER',\n",
              " 'label:CLEANING',\n",
              " 'label:DOING_LAUNDRY',\n",
              " 'label:WASHING_DISHES',\n",
              " 'label:WATCHING_TV',\n",
              " 'label:SURFING_THE_INTERNET',\n",
              " 'label:AT_A_PARTY',\n",
              " 'label:AT_A_BAR',\n",
              " 'label:LOC_beach',\n",
              " 'label:SINGING',\n",
              " 'label:TALKING',\n",
              " 'label:COMPUTER_WORK',\n",
              " 'label:EATING',\n",
              " 'label:TOILET',\n",
              " 'label:GROOMING',\n",
              " 'label:DRESSING',\n",
              " 'label:AT_THE_GYM',\n",
              " 'label:STAIRS_-_GOING_UP',\n",
              " 'label:STAIRS_-_GOING_DOWN',\n",
              " 'label:ELEVATOR',\n",
              " 'label:OR_standing',\n",
              " 'label:AT_SCHOOL',\n",
              " 'label:PHONE_IN_HAND',\n",
              " 'label:PHONE_IN_BAG',\n",
              " 'label:PHONE_ON_TABLE',\n",
              " 'label:WITH_CO-WORKERS',\n",
              " 'label:WITH_FRIENDS',\n",
              " 'label_source']"
            ]
          },
          "metadata": {},
          "execution_count": 44
        }
      ],
      "source": [
        "df.columns.to_list()"
      ]
    },
    {
      "cell_type": "markdown",
      "id": "a028999e-a767-4df7-a0ba-d510acc436cc",
      "metadata": {
        "id": "a028999e-a767-4df7-a0ba-d510acc436cc"
      },
      "source": [
        "## Feature selection"
      ]
    },
    {
      "cell_type": "markdown",
      "id": "95728052-40a5-47bd-a675-9cfd341792cf",
      "metadata": {
        "id": "95728052-40a5-47bd-a675-9cfd341792cf"
      },
      "source": [
        "The columns that start with `label:` correspond to potential y values. Let's look at using the accelerometer features. These start with `raw_acc:` and `watch_acceleration:`"
      ]
    },
    {
      "cell_type": "code",
      "execution_count": null,
      "id": "cd1e3a64-26ea-418a-86b4-3fbb49dabf27",
      "metadata": {
        "id": "cd1e3a64-26ea-418a-86b4-3fbb49dabf27"
      },
      "outputs": [],
      "source": [
        "acc_sensors = [s for s in df.columns if \n",
        "               s.startswith('raw_acc:') or \n",
        "               s.startswith('watch_acceleration:')]\n",
        "\n",
        "target_column = 'label:FIX_walking'"
      ]
    },
    {
      "cell_type": "markdown",
      "id": "2bf2f4ff-f7f0-4b1a-9323-12cba433f698",
      "metadata": {
        "id": "2bf2f4ff-f7f0-4b1a-9323-12cba433f698"
      },
      "source": [
        "## Extract our training data"
      ]
    },
    {
      "cell_type": "code",
      "execution_count": null,
      "id": "7b247579-c2e8-44e8-b6de-d149a53fe146",
      "metadata": {
        "id": "7b247579-c2e8-44e8-b6de-d149a53fe146",
        "colab": {
          "base_uri": "https://localhost:8080/"
        },
        "outputId": "bc25e93a-c924-4144-a5f8-e57a80b709da"
      },
      "outputs": [
        {
          "output_type": "stream",
          "name": "stdout",
          "text": [
            "2681 examples with 158.0 positives\n"
          ]
        }
      ],
      "source": [
        "X_train, y_train = get_features_and_target(df, acc_sensors, target_column)\n",
        "print(f'{y_train.shape[0]} examples with {y_train.sum()} positives')"
      ]
    },
    {
      "cell_type": "markdown",
      "id": "19f1be31-21e2-4dcc-9f26-97966a180c7c",
      "metadata": {
        "id": "19f1be31-21e2-4dcc-9f26-97966a180c7c"
      },
      "source": [
        "## Preprocessing\n",
        "\n",
        "We want to make the learning problem easier by making all columns have a mean of zero and a standard deviation of one. There are also lots of missing values in this dataset. We'll use mean imputation here to get rid of them. Since our data is scaled to have zero mean, this will just zero out missing values."
      ]
    },
    {
      "cell_type": "code",
      "execution_count": null,
      "id": "40b18483-3349-492f-a210-d6bbba28af7d",
      "metadata": {
        "id": "40b18483-3349-492f-a210-d6bbba28af7d"
      },
      "outputs": [],
      "source": [
        "scaler = StandardScaler()\n",
        "imputer = SimpleImputer(strategy='mean')\n",
        "\n",
        "X_train = scaler.fit_transform(X_train)\n",
        "X_train = imputer.fit_transform(X_train)"
      ]
    },
    {
      "cell_type": "markdown",
      "id": "dbabbdb5-cf29-439a-9abc-4ea4eabd2b58",
      "metadata": {
        "id": "dbabbdb5-cf29-439a-9abc-4ea4eabd2b58"
      },
      "source": [
        "## Fitting a model\n",
        "Let's fit a logistic regression model to this user. We can then test it's predictive power on a different user"
      ]
    },
    {
      "cell_type": "code",
      "execution_count": null,
      "id": "68b6ef15-a0e8-4114-a4b9-328fbc242dbb",
      "metadata": {
        "id": "68b6ef15-a0e8-4114-a4b9-328fbc242dbb",
        "colab": {
          "base_uri": "https://localhost:8080/",
          "height": 75
        },
        "outputId": "b927379d-3f23-4585-a7a3-96dccc43c9a5"
      },
      "outputs": [
        {
          "output_type": "execute_result",
          "data": {
            "text/plain": [
              "LogisticRegression(max_iter=1000, solver='liblinear')"
            ],
            "text/html": [
              "<style>#sk-container-id-1 {color: black;background-color: white;}#sk-container-id-1 pre{padding: 0;}#sk-container-id-1 div.sk-toggleable {background-color: white;}#sk-container-id-1 label.sk-toggleable__label {cursor: pointer;display: block;width: 100%;margin-bottom: 0;padding: 0.3em;box-sizing: border-box;text-align: center;}#sk-container-id-1 label.sk-toggleable__label-arrow:before {content: \"▸\";float: left;margin-right: 0.25em;color: #696969;}#sk-container-id-1 label.sk-toggleable__label-arrow:hover:before {color: black;}#sk-container-id-1 div.sk-estimator:hover label.sk-toggleable__label-arrow:before {color: black;}#sk-container-id-1 div.sk-toggleable__content {max-height: 0;max-width: 0;overflow: hidden;text-align: left;background-color: #f0f8ff;}#sk-container-id-1 div.sk-toggleable__content pre {margin: 0.2em;color: black;border-radius: 0.25em;background-color: #f0f8ff;}#sk-container-id-1 input.sk-toggleable__control:checked~div.sk-toggleable__content {max-height: 200px;max-width: 100%;overflow: auto;}#sk-container-id-1 input.sk-toggleable__control:checked~label.sk-toggleable__label-arrow:before {content: \"▾\";}#sk-container-id-1 div.sk-estimator input.sk-toggleable__control:checked~label.sk-toggleable__label {background-color: #d4ebff;}#sk-container-id-1 div.sk-label input.sk-toggleable__control:checked~label.sk-toggleable__label {background-color: #d4ebff;}#sk-container-id-1 input.sk-hidden--visually {border: 0;clip: rect(1px 1px 1px 1px);clip: rect(1px, 1px, 1px, 1px);height: 1px;margin: -1px;overflow: hidden;padding: 0;position: absolute;width: 1px;}#sk-container-id-1 div.sk-estimator {font-family: monospace;background-color: #f0f8ff;border: 1px dotted black;border-radius: 0.25em;box-sizing: border-box;margin-bottom: 0.5em;}#sk-container-id-1 div.sk-estimator:hover {background-color: #d4ebff;}#sk-container-id-1 div.sk-parallel-item::after {content: \"\";width: 100%;border-bottom: 1px solid gray;flex-grow: 1;}#sk-container-id-1 div.sk-label:hover label.sk-toggleable__label {background-color: #d4ebff;}#sk-container-id-1 div.sk-serial::before {content: \"\";position: absolute;border-left: 1px solid gray;box-sizing: border-box;top: 0;bottom: 0;left: 50%;z-index: 0;}#sk-container-id-1 div.sk-serial {display: flex;flex-direction: column;align-items: center;background-color: white;padding-right: 0.2em;padding-left: 0.2em;position: relative;}#sk-container-id-1 div.sk-item {position: relative;z-index: 1;}#sk-container-id-1 div.sk-parallel {display: flex;align-items: stretch;justify-content: center;background-color: white;position: relative;}#sk-container-id-1 div.sk-item::before, #sk-container-id-1 div.sk-parallel-item::before {content: \"\";position: absolute;border-left: 1px solid gray;box-sizing: border-box;top: 0;bottom: 0;left: 50%;z-index: -1;}#sk-container-id-1 div.sk-parallel-item {display: flex;flex-direction: column;z-index: 1;position: relative;background-color: white;}#sk-container-id-1 div.sk-parallel-item:first-child::after {align-self: flex-end;width: 50%;}#sk-container-id-1 div.sk-parallel-item:last-child::after {align-self: flex-start;width: 50%;}#sk-container-id-1 div.sk-parallel-item:only-child::after {width: 0;}#sk-container-id-1 div.sk-dashed-wrapped {border: 1px dashed gray;margin: 0 0.4em 0.5em 0.4em;box-sizing: border-box;padding-bottom: 0.4em;background-color: white;}#sk-container-id-1 div.sk-label label {font-family: monospace;font-weight: bold;display: inline-block;line-height: 1.2em;}#sk-container-id-1 div.sk-label-container {text-align: center;}#sk-container-id-1 div.sk-container {/* jupyter's `normalize.less` sets `[hidden] { display: none; }` but bootstrap.min.css set `[hidden] { display: none !important; }` so we also need the `!important` here to be able to override the default hidden behavior on the sphinx rendered scikit-learn.org. See: https://github.com/scikit-learn/scikit-learn/issues/21755 */display: inline-block !important;position: relative;}#sk-container-id-1 div.sk-text-repr-fallback {display: none;}</style><div id=\"sk-container-id-1\" class=\"sk-top-container\"><div class=\"sk-text-repr-fallback\"><pre>LogisticRegression(max_iter=1000, solver=&#x27;liblinear&#x27;)</pre><b>In a Jupyter environment, please rerun this cell to show the HTML representation or trust the notebook. <br />On GitHub, the HTML representation is unable to render, please try loading this page with nbviewer.org.</b></div><div class=\"sk-container\" hidden><div class=\"sk-item\"><div class=\"sk-estimator sk-toggleable\"><input class=\"sk-toggleable__control sk-hidden--visually\" id=\"sk-estimator-id-1\" type=\"checkbox\" checked><label for=\"sk-estimator-id-1\" class=\"sk-toggleable__label sk-toggleable__label-arrow\">LogisticRegression</label><div class=\"sk-toggleable__content\"><pre>LogisticRegression(max_iter=1000, solver=&#x27;liblinear&#x27;)</pre></div></div></div></div></div>"
            ]
          },
          "metadata": {},
          "execution_count": 10
        }
      ],
      "source": [
        "clf = LogisticRegression(solver='liblinear', max_iter=1000, C=1.0)\n",
        "clf.fit(X_train, y_train)"
      ]
    },
    {
      "cell_type": "markdown",
      "id": "bea7fe9a-c494-446c-b28f-3a80abe4839f",
      "metadata": {
        "id": "bea7fe9a-c494-446c-b28f-3a80abe4839f"
      },
      "source": [
        "## Training accuracy\n",
        "\n",
        "Let's see the accuracy on the training set. The score function can be used to do this:"
      ]
    },
    {
      "cell_type": "code",
      "execution_count": null,
      "id": "96f2510f-5c11-45dd-9792-457e250c90a6",
      "metadata": {
        "id": "96f2510f-5c11-45dd-9792-457e250c90a6",
        "colab": {
          "base_uri": "https://localhost:8080/"
        },
        "outputId": "a365e45b-bd01-4b9a-9060-7a710f1dd743"
      },
      "outputs": [
        {
          "output_type": "stream",
          "name": "stdout",
          "text": [
            "Training accuracy: 0.9750\n"
          ]
        }
      ],
      "source": [
        "print(f'Training accuracy: {clf.score(X_train, y_train):0.4f}')"
      ]
    },
    {
      "cell_type": "markdown",
      "id": "6bb920a4-8df8-491a-927d-24989079231a",
      "metadata": {
        "id": "6bb920a4-8df8-491a-927d-24989079231a"
      },
      "source": [
        "Looks like the model can fit the training data reasonably well anyway. But this says nothing about how well it will generalize to new data. The dataset is also unbalanced, so this figure may be misleading. How accurate would we be if we just predicted zero each time?"
      ]
    },
    {
      "cell_type": "code",
      "execution_count": null,
      "id": "2577d894-2528-4095-ae14-91bed84de656",
      "metadata": {
        "id": "2577d894-2528-4095-ae14-91bed84de656",
        "colab": {
          "base_uri": "https://localhost:8080/"
        },
        "outputId": "5d4e19c1-2300-4914-8249-f3132e954f75"
      },
      "outputs": [
        {
          "output_type": "execute_result",
          "data": {
            "text/plain": [
              "0.9410667661320403"
            ]
          },
          "metadata": {},
          "execution_count": 12
        }
      ],
      "source": [
        "1 - y_train.sum() / y_train.shape[0]"
      ]
    },
    {
      "cell_type": "markdown",
      "id": "e932f3b5-f84a-4bf3-adaa-73de83676362",
      "metadata": {
        "id": "e932f3b5-f84a-4bf3-adaa-73de83676362"
      },
      "source": [
        "Oh wow. Our model may not be that great after all. Let's try to calculate balanced accuracy, which should better reflect how well the model does on the training data"
      ]
    },
    {
      "cell_type": "code",
      "execution_count": null,
      "id": "c6b817c4-971e-45ed-846f-f7fd9e0c9283",
      "metadata": {
        "id": "c6b817c4-971e-45ed-846f-f7fd9e0c9283",
        "colab": {
          "base_uri": "https://localhost:8080/"
        },
        "outputId": "85757634-7f79-475e-e649-ed6fd055838e"
      },
      "outputs": [
        {
          "output_type": "stream",
          "name": "stdout",
          "text": [
            "Balanced accuracy (train): 0.8354\n"
          ]
        }
      ],
      "source": [
        "y_pred = clf.predict(X_train)\n",
        "print(f'Balanced accuracy (train): {metrics.balanced_accuracy_score(y_train, y_pred):0.4f}')"
      ]
    },
    {
      "cell_type": "markdown",
      "id": "f55cb569-437b-4c5e-a6d7-8489e7918304",
      "metadata": {
        "id": "f55cb569-437b-4c5e-a6d7-8489e7918304"
      },
      "source": [
        "## Testing the model\n",
        "\n",
        "Ok, it seems our model has fit the training data well. How well does it perform on unseen test data? Let's load the data in for a different user."
      ]
    },
    {
      "cell_type": "code",
      "execution_count": null,
      "id": "bfabfefd-26fa-46c6-9790-e378cea03028",
      "metadata": {
        "id": "bfabfefd-26fa-46c6-9790-e378cea03028"
      },
      "outputs": [],
      "source": [
        "X_test, y_test = get_dataset_for_user('11B5EC4D-4133-4289-B475-4E737182A406')"
      ]
    },
    {
      "cell_type": "markdown",
      "id": "4938c94f-5767-40ec-bbd4-c05dcd334e38",
      "metadata": {
        "id": "4938c94f-5767-40ec-bbd4-c05dcd334e38"
      },
      "source": [
        "We also need to preprocess as before. **Note**: we are using the scaler and imputer fit to the training data here. It's very important that you do not call `fit` or `fit_transform` here! Think about why."
      ]
    },
    {
      "cell_type": "code",
      "execution_count": null,
      "id": "4b6fd7e9-7657-48a3-a393-c339a74344d3",
      "metadata": {
        "id": "4b6fd7e9-7657-48a3-a393-c339a74344d3"
      },
      "outputs": [],
      "source": [
        "X_test = imputer.transform(scaler.transform(X_test))"
      ]
    },
    {
      "cell_type": "markdown",
      "id": "c131312f-246c-4509-b45a-ea5a83ffab4b",
      "metadata": {
        "id": "c131312f-246c-4509-b45a-ea5a83ffab4b"
      },
      "source": [
        "## Test accuracy"
      ]
    },
    {
      "cell_type": "code",
      "execution_count": null,
      "id": "dd9cb70b-24b7-4812-88ce-f94aa4ad0070",
      "metadata": {
        "id": "dd9cb70b-24b7-4812-88ce-f94aa4ad0070",
        "colab": {
          "base_uri": "https://localhost:8080/"
        },
        "outputId": "1ae581e8-da5d-44e8-8aee-572246b971fd"
      },
      "outputs": [
        {
          "output_type": "stream",
          "name": "stdout",
          "text": [
            "Test accuracy: 0.9746\n"
          ]
        }
      ],
      "source": [
        "print(f'Test accuracy: {clf.score(X_test, y_test):0.4f}')"
      ]
    },
    {
      "cell_type": "code",
      "execution_count": null,
      "id": "63264b98-5c2a-4e62-805f-e58ff3860736",
      "metadata": {
        "id": "63264b98-5c2a-4e62-805f-e58ff3860736",
        "colab": {
          "base_uri": "https://localhost:8080/"
        },
        "outputId": "218e06b1-5d67-44d9-9b47-afc4a0a06299"
      },
      "outputs": [
        {
          "output_type": "stream",
          "name": "stdout",
          "text": [
            "Balanced accuracy (train): 0.7327\n"
          ]
        }
      ],
      "source": [
        "y_pred = clf.predict(X_test)\n",
        "print(f'Balanced accuracy (train): {metrics.balanced_accuracy_score(y_test, y_pred):0.4f}')"
      ]
    },
    {
      "cell_type": "markdown",
      "source": [
        "## Improving the test set\n",
        "\n",
        "Let's take 5 random users"
      ],
      "metadata": {
        "id": "GJ-ikn_nodmH"
      },
      "id": "GJ-ikn_nodmH"
    },
    {
      "cell_type": "code",
      "source": [
        "uuids = [\n",
        "    '00EABED2-271D-49D8-B599-1D4A09240601', '098A72A5-E3E5-4F54-A152-BBDA0DF7B694', '0A986513-7828-4D53-AA1F-E02D6DF9561B',\n",
        "    '0BFC35E2-4817-4865-BFA7-764742302A2D', '0E6184E1-90C0-48EE-B25A-F1ECB7B9714E'\n",
        "]\n",
        "\n",
        "test_scores = []\n",
        "balanced_accuracies = []\n",
        "for uuid in uuids:\n",
        "  X_test, y_test = get_dataset_for_user(uuid)\n",
        "\n",
        "  X_test = imputer.transform(scaler.transform(X_test))\n",
        "  score = clf.score(X_test, y_test)\n",
        "  test_scores.append(score)\n",
        "  print(f'Test accuracy for {uuid}: {score:0.4f}')\n",
        "  y_pred = clf.predict(X_test)\n",
        "  accuracy = metrics.balanced_accuracy_score(y_test, y_pred)\n",
        "  balanced_accuracies.append(accuracy)\n",
        "  print(f'Balanced accuracy for {uuid} (train): {accuracy:0.4f}')\n",
        "\n",
        "print()\n",
        "print(f'Mean of the test accuracies for the five users: {np.mean(test_scores)}')\n",
        "print(f'Variance of the test accuracies for the five users: {np.var(test_scores)}')\n",
        "print()\n",
        "print(f'Mean of the test balanced accuracies for the five users: {np.mean(balanced_accuracies)}')\n",
        "print(f'Variance of the test balanced accuracies for the five users: {np.var(balanced_accuracies)}')\n"
      ],
      "metadata": {
        "id": "mWrnWLqhoe67",
        "colab": {
          "base_uri": "https://localhost:8080/"
        },
        "outputId": "e1d21af7-0b64-4b18-e41d-7a07f7cefc39"
      },
      "id": "mWrnWLqhoe67",
      "execution_count": null,
      "outputs": [
        {
          "output_type": "stream",
          "name": "stdout",
          "text": [
            "Test accuracy for 00EABED2-271D-49D8-B599-1D4A09240601: 0.9320\n",
            "Balanced accuracy for 00EABED2-271D-49D8-B599-1D4A09240601 (train): 0.6230\n",
            "Test accuracy for 098A72A5-E3E5-4F54-A152-BBDA0DF7B694: 0.9623\n",
            "Balanced accuracy for 098A72A5-E3E5-4F54-A152-BBDA0DF7B694 (train): 0.6865\n",
            "Test accuracy for 0A986513-7828-4D53-AA1F-E02D6DF9561B: 0.9497\n",
            "Balanced accuracy for 0A986513-7828-4D53-AA1F-E02D6DF9561B (train): 0.6765\n",
            "Test accuracy for 0BFC35E2-4817-4865-BFA7-764742302A2D: 0.7961\n",
            "Balanced accuracy for 0BFC35E2-4817-4865-BFA7-764742302A2D (train): 0.4889\n",
            "Test accuracy for 0E6184E1-90C0-48EE-B25A-F1ECB7B9714E: 0.8157\n",
            "Balanced accuracy for 0E6184E1-90C0-48EE-B25A-F1ECB7B9714E (train): 0.5791\n",
            "\n",
            "Mean of the test accuracies for the five users: 0.8911686990826506\n",
            "Variance of the test accuracies for the five users: 0.00498134275682751\n",
            "\n",
            "Mean of the test balanced accuracies for the five users: 0.610785917475387\n",
            "Variance of the test balanced accuracies for the five users: 0.00521394286395418\n"
          ]
        }
      ]
    },
    {
      "cell_type": "markdown",
      "source": [
        "Let's create a test dataset containing all 5 users"
      ],
      "metadata": {
        "id": "inveG_6xqt8K"
      },
      "id": "inveG_6xqt8K"
    },
    {
      "cell_type": "code",
      "source": [
        "def get_testing_dataset():\n",
        "  X_test_five_users, y_test_five_users = get_dataset_for_user(uuids[0])\n",
        "\n",
        "  for uuid in uuids[1:]:\n",
        "      X_test, y_test = get_dataset_for_user(uuid)\n",
        "\n",
        "      X_test_five_users = np.concatenate((X_test, X_test_five_users), axis=0)\n",
        "      y_test_five_users = np.concatenate((y_test, y_test_five_users), axis=0)\n",
        "\n",
        "  X_test_five_users = imputer.transform(scaler.transform(X_test_five_users))\n",
        "\n",
        "  return X_test_five_users, y_test_five_users\n",
        "\n",
        "X_test_five_usrs, y_test_five_users = get_testing_dataset()"
      ],
      "metadata": {
        "id": "69gTsJsup-NP"
      },
      "id": "69gTsJsup-NP",
      "execution_count": null,
      "outputs": []
    },
    {
      "cell_type": "markdown",
      "source": [
        "Let's test the accuracy of the model with this data"
      ],
      "metadata": {
        "id": "Y5OVIzmpqyUp"
      },
      "id": "Y5OVIzmpqyUp"
    },
    {
      "cell_type": "code",
      "source": [
        "score = clf.score(X_test_five_users, y_test_five_users)\n",
        "print(f'Test accuracy for all five users: {score:0.4f}')\n",
        "y_pred_five_users = clf.predict(X_test_five_users)\n",
        "accuracy = metrics.balanced_accuracy_score(y_test_five_users, y_pred_five_users)\n",
        "print(f'Balanced accuracy for all five users (train): {accuracy:0.4f}')\n"
      ],
      "metadata": {
        "id": "M7xssO3Bq4oS",
        "colab": {
          "base_uri": "https://localhost:8080/"
        },
        "outputId": "4c01c142-77f2-4e34-83e6-3d394f531506"
      },
      "id": "M7xssO3Bq4oS",
      "execution_count": null,
      "outputs": [
        {
          "output_type": "stream",
          "name": "stdout",
          "text": [
            "Test accuracy for all five users: 0.8879\n",
            "Balanced accuracy for all five users (train): 0.5850\n"
          ]
        }
      ]
    },
    {
      "cell_type": "markdown",
      "source": [
        "## Validation data\n",
        "\n",
        "We can reuse the dataset of the five users as a validation dataset"
      ],
      "metadata": {
        "id": "ve8FQE3Ys21A"
      },
      "id": "ve8FQE3Ys21A"
    },
    {
      "cell_type": "code",
      "source": [
        "X_validation = X_test_five_users\n",
        "y_validation = y_test_five_users"
      ],
      "metadata": {
        "id": "xAY8cgaxteep"
      },
      "id": "xAY8cgaxteep",
      "execution_count": null,
      "outputs": []
    },
    {
      "cell_type": "markdown",
      "source": [
        "## Increased training data\n",
        "\n",
        "Let's check how the accuracy of the classifier changes when using another user to train the classifier"
      ],
      "metadata": {
        "id": "8o7GotFOthZ8"
      },
      "id": "8o7GotFOthZ8"
    },
    {
      "cell_type": "code",
      "source": [
        "new_uuid = '9759096F-1119-4E19-A0AD-6F16989C7E1C'\n",
        "X_new, y_new = get_dataset_for_user(new_uuid)\n",
        "\n",
        "clf_new = LogisticRegression(solver='liblinear', max_iter=1000, C=1.0)\n",
        "\n",
        "X_new = imputer.transform(scaler.transform(X_new))\n",
        "clf_new.fit(X_new, y_new)"
      ],
      "metadata": {
        "id": "j7lKSDY4tlUe",
        "colab": {
          "base_uri": "https://localhost:8080/",
          "height": 75
        },
        "outputId": "2be49275-1be9-44c8-e129-a162cd9599ed"
      },
      "id": "j7lKSDY4tlUe",
      "execution_count": null,
      "outputs": [
        {
          "output_type": "execute_result",
          "data": {
            "text/plain": [
              "LogisticRegression(max_iter=1000, solver='liblinear')"
            ],
            "text/html": [
              "<style>#sk-container-id-2 {color: black;background-color: white;}#sk-container-id-2 pre{padding: 0;}#sk-container-id-2 div.sk-toggleable {background-color: white;}#sk-container-id-2 label.sk-toggleable__label {cursor: pointer;display: block;width: 100%;margin-bottom: 0;padding: 0.3em;box-sizing: border-box;text-align: center;}#sk-container-id-2 label.sk-toggleable__label-arrow:before {content: \"▸\";float: left;margin-right: 0.25em;color: #696969;}#sk-container-id-2 label.sk-toggleable__label-arrow:hover:before {color: black;}#sk-container-id-2 div.sk-estimator:hover label.sk-toggleable__label-arrow:before {color: black;}#sk-container-id-2 div.sk-toggleable__content {max-height: 0;max-width: 0;overflow: hidden;text-align: left;background-color: #f0f8ff;}#sk-container-id-2 div.sk-toggleable__content pre {margin: 0.2em;color: black;border-radius: 0.25em;background-color: #f0f8ff;}#sk-container-id-2 input.sk-toggleable__control:checked~div.sk-toggleable__content {max-height: 200px;max-width: 100%;overflow: auto;}#sk-container-id-2 input.sk-toggleable__control:checked~label.sk-toggleable__label-arrow:before {content: \"▾\";}#sk-container-id-2 div.sk-estimator input.sk-toggleable__control:checked~label.sk-toggleable__label {background-color: #d4ebff;}#sk-container-id-2 div.sk-label input.sk-toggleable__control:checked~label.sk-toggleable__label {background-color: #d4ebff;}#sk-container-id-2 input.sk-hidden--visually {border: 0;clip: rect(1px 1px 1px 1px);clip: rect(1px, 1px, 1px, 1px);height: 1px;margin: -1px;overflow: hidden;padding: 0;position: absolute;width: 1px;}#sk-container-id-2 div.sk-estimator {font-family: monospace;background-color: #f0f8ff;border: 1px dotted black;border-radius: 0.25em;box-sizing: border-box;margin-bottom: 0.5em;}#sk-container-id-2 div.sk-estimator:hover {background-color: #d4ebff;}#sk-container-id-2 div.sk-parallel-item::after {content: \"\";width: 100%;border-bottom: 1px solid gray;flex-grow: 1;}#sk-container-id-2 div.sk-label:hover label.sk-toggleable__label {background-color: #d4ebff;}#sk-container-id-2 div.sk-serial::before {content: \"\";position: absolute;border-left: 1px solid gray;box-sizing: border-box;top: 0;bottom: 0;left: 50%;z-index: 0;}#sk-container-id-2 div.sk-serial {display: flex;flex-direction: column;align-items: center;background-color: white;padding-right: 0.2em;padding-left: 0.2em;position: relative;}#sk-container-id-2 div.sk-item {position: relative;z-index: 1;}#sk-container-id-2 div.sk-parallel {display: flex;align-items: stretch;justify-content: center;background-color: white;position: relative;}#sk-container-id-2 div.sk-item::before, #sk-container-id-2 div.sk-parallel-item::before {content: \"\";position: absolute;border-left: 1px solid gray;box-sizing: border-box;top: 0;bottom: 0;left: 50%;z-index: -1;}#sk-container-id-2 div.sk-parallel-item {display: flex;flex-direction: column;z-index: 1;position: relative;background-color: white;}#sk-container-id-2 div.sk-parallel-item:first-child::after {align-self: flex-end;width: 50%;}#sk-container-id-2 div.sk-parallel-item:last-child::after {align-self: flex-start;width: 50%;}#sk-container-id-2 div.sk-parallel-item:only-child::after {width: 0;}#sk-container-id-2 div.sk-dashed-wrapped {border: 1px dashed gray;margin: 0 0.4em 0.5em 0.4em;box-sizing: border-box;padding-bottom: 0.4em;background-color: white;}#sk-container-id-2 div.sk-label label {font-family: monospace;font-weight: bold;display: inline-block;line-height: 1.2em;}#sk-container-id-2 div.sk-label-container {text-align: center;}#sk-container-id-2 div.sk-container {/* jupyter's `normalize.less` sets `[hidden] { display: none; }` but bootstrap.min.css set `[hidden] { display: none !important; }` so we also need the `!important` here to be able to override the default hidden behavior on the sphinx rendered scikit-learn.org. See: https://github.com/scikit-learn/scikit-learn/issues/21755 */display: inline-block !important;position: relative;}#sk-container-id-2 div.sk-text-repr-fallback {display: none;}</style><div id=\"sk-container-id-2\" class=\"sk-top-container\"><div class=\"sk-text-repr-fallback\"><pre>LogisticRegression(max_iter=1000, solver=&#x27;liblinear&#x27;)</pre><b>In a Jupyter environment, please rerun this cell to show the HTML representation or trust the notebook. <br />On GitHub, the HTML representation is unable to render, please try loading this page with nbviewer.org.</b></div><div class=\"sk-container\" hidden><div class=\"sk-item\"><div class=\"sk-estimator sk-toggleable\"><input class=\"sk-toggleable__control sk-hidden--visually\" id=\"sk-estimator-id-2\" type=\"checkbox\" checked><label for=\"sk-estimator-id-2\" class=\"sk-toggleable__label sk-toggleable__label-arrow\">LogisticRegression</label><div class=\"sk-toggleable__content\"><pre>LogisticRegression(max_iter=1000, solver=&#x27;liblinear&#x27;)</pre></div></div></div></div></div>"
            ]
          },
          "metadata": {},
          "execution_count": 22
        }
      ]
    },
    {
      "cell_type": "markdown",
      "source": [
        "Calculate score on the new classifier using test data"
      ],
      "metadata": {
        "id": "7ytoceUBsH6-"
      },
      "id": "7ytoceUBsH6-"
    },
    {
      "cell_type": "code",
      "source": [
        "score = clf_new.score(X_test_five_users, y_test_five_users)\n",
        "print(f'Test accuracy for all five users: {score:0.4f}')\n",
        "y_pred_five_users = clf_new.predict(X_test_five_users)\n",
        "accuracy = metrics.balanced_accuracy_score(y_test_five_users, y_pred_five_users)\n",
        "print(f'Balanced accuracy for all five users (train): {accuracy:0.4f}')"
      ],
      "metadata": {
        "id": "OINTIA6WsLOa",
        "colab": {
          "base_uri": "https://localhost:8080/"
        },
        "outputId": "f4eabd57-1375-4dd0-bbe4-31ffabcedec1"
      },
      "id": "OINTIA6WsLOa",
      "execution_count": null,
      "outputs": [
        {
          "output_type": "stream",
          "name": "stdout",
          "text": [
            "Test accuracy for all five users: 0.8915\n",
            "Balanced accuracy for all five users (train): 0.5620\n"
          ]
        }
      ]
    },
    {
      "cell_type": "markdown",
      "source": [
        "With this user we get slightly better results. Let's combine the training dataset to have multiple users"
      ],
      "metadata": {
        "id": "KGbQnh6wsX7I"
      },
      "id": "KGbQnh6wsX7I"
    },
    {
      "cell_type": "code",
      "source": [
        "def get_training_dataset():\n",
        "  uuids_train = ['9759096F-1119-4E19-A0AD-6F16989C7E1C', '1155FF54-63D3-4AB2-9863-8385D0BD0A13', 'CDA3BBF7-6631-45E8-85BA-EEB416B32A3C',\n",
        "                'C48CE857-A0DD-4DDB-BEA5-3A25449B2153', 'FDAA70A1-42A3-4E3F-9AE3-3FDA412E03BF']\n",
        "\n",
        "  X_train, y_train = get_dataset_for_user(uuids_train[0])\n",
        "\n",
        "  for uuid in uuids_train[1:]:\n",
        "      X_uuid, y_uuid = get_dataset_for_user(uuid)\n",
        "\n",
        "      X_train = np.concatenate((X_uuid, X_train), axis=0)\n",
        "      y_train = np.concatenate((y_uuid, y_train), axis=0)\n",
        "\n",
        "\n",
        "\n",
        "  X_train = imputer.transform(scaler.transform(X_train))\n",
        "  return X_train, y_train\n",
        "\n",
        "X_train, y_train = get_training_dataset()\n",
        "\n",
        "clf_new = LogisticRegression(solver='liblinear', max_iter=1000, C=1.0)\n",
        "\n",
        "clf_new.fit(X_train, y_train)"
      ],
      "metadata": {
        "id": "USpTqHLqsW5o",
        "colab": {
          "base_uri": "https://localhost:8080/",
          "height": 75
        },
        "outputId": "a8736dce-35eb-4946-fc60-b2cda2a81781"
      },
      "id": "USpTqHLqsW5o",
      "execution_count": null,
      "outputs": [
        {
          "output_type": "execute_result",
          "data": {
            "text/plain": [
              "LogisticRegression(max_iter=1000, solver='liblinear')"
            ],
            "text/html": [
              "<style>#sk-container-id-6 {color: black;background-color: white;}#sk-container-id-6 pre{padding: 0;}#sk-container-id-6 div.sk-toggleable {background-color: white;}#sk-container-id-6 label.sk-toggleable__label {cursor: pointer;display: block;width: 100%;margin-bottom: 0;padding: 0.3em;box-sizing: border-box;text-align: center;}#sk-container-id-6 label.sk-toggleable__label-arrow:before {content: \"▸\";float: left;margin-right: 0.25em;color: #696969;}#sk-container-id-6 label.sk-toggleable__label-arrow:hover:before {color: black;}#sk-container-id-6 div.sk-estimator:hover label.sk-toggleable__label-arrow:before {color: black;}#sk-container-id-6 div.sk-toggleable__content {max-height: 0;max-width: 0;overflow: hidden;text-align: left;background-color: #f0f8ff;}#sk-container-id-6 div.sk-toggleable__content pre {margin: 0.2em;color: black;border-radius: 0.25em;background-color: #f0f8ff;}#sk-container-id-6 input.sk-toggleable__control:checked~div.sk-toggleable__content {max-height: 200px;max-width: 100%;overflow: auto;}#sk-container-id-6 input.sk-toggleable__control:checked~label.sk-toggleable__label-arrow:before {content: \"▾\";}#sk-container-id-6 div.sk-estimator input.sk-toggleable__control:checked~label.sk-toggleable__label {background-color: #d4ebff;}#sk-container-id-6 div.sk-label input.sk-toggleable__control:checked~label.sk-toggleable__label {background-color: #d4ebff;}#sk-container-id-6 input.sk-hidden--visually {border: 0;clip: rect(1px 1px 1px 1px);clip: rect(1px, 1px, 1px, 1px);height: 1px;margin: -1px;overflow: hidden;padding: 0;position: absolute;width: 1px;}#sk-container-id-6 div.sk-estimator {font-family: monospace;background-color: #f0f8ff;border: 1px dotted black;border-radius: 0.25em;box-sizing: border-box;margin-bottom: 0.5em;}#sk-container-id-6 div.sk-estimator:hover {background-color: #d4ebff;}#sk-container-id-6 div.sk-parallel-item::after {content: \"\";width: 100%;border-bottom: 1px solid gray;flex-grow: 1;}#sk-container-id-6 div.sk-label:hover label.sk-toggleable__label {background-color: #d4ebff;}#sk-container-id-6 div.sk-serial::before {content: \"\";position: absolute;border-left: 1px solid gray;box-sizing: border-box;top: 0;bottom: 0;left: 50%;z-index: 0;}#sk-container-id-6 div.sk-serial {display: flex;flex-direction: column;align-items: center;background-color: white;padding-right: 0.2em;padding-left: 0.2em;position: relative;}#sk-container-id-6 div.sk-item {position: relative;z-index: 1;}#sk-container-id-6 div.sk-parallel {display: flex;align-items: stretch;justify-content: center;background-color: white;position: relative;}#sk-container-id-6 div.sk-item::before, #sk-container-id-6 div.sk-parallel-item::before {content: \"\";position: absolute;border-left: 1px solid gray;box-sizing: border-box;top: 0;bottom: 0;left: 50%;z-index: -1;}#sk-container-id-6 div.sk-parallel-item {display: flex;flex-direction: column;z-index: 1;position: relative;background-color: white;}#sk-container-id-6 div.sk-parallel-item:first-child::after {align-self: flex-end;width: 50%;}#sk-container-id-6 div.sk-parallel-item:last-child::after {align-self: flex-start;width: 50%;}#sk-container-id-6 div.sk-parallel-item:only-child::after {width: 0;}#sk-container-id-6 div.sk-dashed-wrapped {border: 1px dashed gray;margin: 0 0.4em 0.5em 0.4em;box-sizing: border-box;padding-bottom: 0.4em;background-color: white;}#sk-container-id-6 div.sk-label label {font-family: monospace;font-weight: bold;display: inline-block;line-height: 1.2em;}#sk-container-id-6 div.sk-label-container {text-align: center;}#sk-container-id-6 div.sk-container {/* jupyter's `normalize.less` sets `[hidden] { display: none; }` but bootstrap.min.css set `[hidden] { display: none !important; }` so we also need the `!important` here to be able to override the default hidden behavior on the sphinx rendered scikit-learn.org. See: https://github.com/scikit-learn/scikit-learn/issues/21755 */display: inline-block !important;position: relative;}#sk-container-id-6 div.sk-text-repr-fallback {display: none;}</style><div id=\"sk-container-id-6\" class=\"sk-top-container\"><div class=\"sk-text-repr-fallback\"><pre>LogisticRegression(max_iter=1000, solver=&#x27;liblinear&#x27;)</pre><b>In a Jupyter environment, please rerun this cell to show the HTML representation or trust the notebook. <br />On GitHub, the HTML representation is unable to render, please try loading this page with nbviewer.org.</b></div><div class=\"sk-container\" hidden><div class=\"sk-item\"><div class=\"sk-estimator sk-toggleable\"><input class=\"sk-toggleable__control sk-hidden--visually\" id=\"sk-estimator-id-6\" type=\"checkbox\" checked><label for=\"sk-estimator-id-6\" class=\"sk-toggleable__label sk-toggleable__label-arrow\">LogisticRegression</label><div class=\"sk-toggleable__content\"><pre>LogisticRegression(max_iter=1000, solver=&#x27;liblinear&#x27;)</pre></div></div></div></div></div>"
            ]
          },
          "metadata": {},
          "execution_count": 45
        }
      ]
    },
    {
      "cell_type": "markdown",
      "source": [
        "We can note that the new classifier has better accuracy than the old one."
      ],
      "metadata": {
        "id": "vOVDNl_stdnW"
      },
      "id": "vOVDNl_stdnW"
    },
    {
      "cell_type": "code",
      "source": [
        "print_classifier_accuracy(clf, X_test_five_users, y_test_five_users, label='single-user')\n",
        "print_classifier_accuracy(clf_new, X_test_five_users, y_test_five_users, label='multiple-users')"
      ],
      "metadata": {
        "id": "6KQxuiJMtmC_",
        "colab": {
          "base_uri": "https://localhost:8080/"
        },
        "outputId": "a14f26ca-8ec3-4f6e-dfcf-13eeae2f5d74"
      },
      "id": "6KQxuiJMtmC_",
      "execution_count": null,
      "outputs": [
        {
          "output_type": "stream",
          "name": "stdout",
          "text": [
            "Test accuracy for classifier single-user: 0.8879\n",
            "Balanced accuracy for classifier single-user: 0.5850\n",
            "Test accuracy for classifier multiple-users: 0.8975\n",
            "Balanced accuracy for classifier multiple-users: 0.5935\n"
          ]
        }
      ]
    },
    {
      "cell_type": "markdown",
      "source": [
        "## Model Selection\n",
        "\n",
        "To start, let's define a set of C's to train our model"
      ],
      "metadata": {
        "id": "OI1xsKZKvGLv"
      },
      "id": "OI1xsKZKvGLv"
    },
    {
      "cell_type": "code",
      "source": [
        "def get_clf(C):\n",
        "    return LogisticRegression(solver='liblinear', max_iter=10000, C=C)\n",
        "\n",
        "Cs = np.linspace(0.00001, 10, 20)\n",
        "\n",
        "scores = []\n",
        "balanced_accuracies = []\n",
        "\n",
        "for C in Cs:\n",
        "  clf = get_clf(C)\n",
        "  clf.fit(X_train, y_train)\n",
        "\n",
        "  score = clf.score(X_train, y_train)\n",
        "  scores.append(score)\n",
        "  y_pred = clf.predict(X_train)\n",
        "  accuracy = metrics.balanced_accuracy_score(y_train, y_pred)\n",
        "  balanced_accuracies.append(accuracy)\n"
      ],
      "metadata": {
        "id": "LJuBbhwyvlLU"
      },
      "id": "LJuBbhwyvlLU",
      "execution_count": null,
      "outputs": []
    },
    {
      "cell_type": "code",
      "source": [
        "plt.plot(Cs, scores)\n",
        "\n",
        "plt.xlabel('Values for C')\n",
        "plt.ylabel('Train scores')\n",
        "plt.title('Trainscores vs C')"
      ],
      "metadata": {
        "id": "wMgMKBMqzSWN",
        "colab": {
          "base_uri": "https://localhost:8080/",
          "height": 313
        },
        "outputId": "39074601-06fd-4ad1-9586-7b4b8b2d395d"
      },
      "id": "wMgMKBMqzSWN",
      "execution_count": null,
      "outputs": [
        {
          "output_type": "execute_result",
          "data": {
            "text/plain": [
              "Text(0.5, 1.0, 'Trainscores vs C')"
            ]
          },
          "metadata": {},
          "execution_count": 27
        },
        {
          "output_type": "display_data",
          "data": {
            "text/plain": [
              "<Figure size 432x288 with 1 Axes>"
            ],
            "image/png": "[encoded data removed]"
          },
          "metadata": {
            "needs_background": "light"
          }
        }
      ]
    },
    {
      "cell_type": "code",
      "source": [
        "plt.plot(Cs, balanced_accuracies)\n",
        "\n",
        "plt.xlabel('Values for C')\n",
        "plt.ylabel('Balanced accuracies')\n",
        "plt.title('Balanced accuracies vs C')"
      ],
      "metadata": {
        "id": "Wk0E7C_Bzs_A",
        "colab": {
          "base_uri": "https://localhost:8080/",
          "height": 313
        },
        "outputId": "fd90a8da-30fe-4b0e-c1af-e51d358f70eb"
      },
      "id": "Wk0E7C_Bzs_A",
      "execution_count": null,
      "outputs": [
        {
          "output_type": "execute_result",
          "data": {
            "text/plain": [
              "Text(0.5, 1.0, 'Balanced accuracies vs C')"
            ]
          },
          "metadata": {},
          "execution_count": 28
        },
        {
          "output_type": "display_data",
          "data": {
            "text/plain": [
              "<Figure size 432x288 with 1 Axes>"
            ],
            "image/png": "[encoded data removed]"
          },
          "metadata": {
            "needs_background": "light"
          }
        }
      ]
    },
    {
      "cell_type": "markdown",
      "source": [
        "As we can note on the test score, there is a value for C such that incresing it will have no effect on the result (a.k.a performance doesn't change). On the other hand, best value for balanced accuracy is by using the smallest C possible."
      ],
      "metadata": {
        "id": "NN7Fnz880trY"
      },
      "id": "NN7Fnz880trY"
    },
    {
      "cell_type": "code",
      "source": [
        "best_score_idx = np.argmax(scores)\n",
        "best_accuracy_score_idx = np.argmax(balanced_accuracies)\n",
        "\n",
        "print(f'Best C for score metric: {Cs[best_score_idx]}')\n",
        "print(f'Best C for balanced accuracy metric: {Cs[best_accuracy_score_idx]}')\n",
        "print(f'Best score metric: {scores[best_score_idx]}')\n",
        "print(f'Best balanced accuracy metric: {balanced_accuracies[best_accuracy_score_idx]}')"
      ],
      "metadata": {
        "id": "_xqeQ3dh08rr",
        "colab": {
          "base_uri": "https://localhost:8080/"
        },
        "outputId": "4147acb7-ca28-4f91-8957-519edc3e58f0"
      },
      "id": "_xqeQ3dh08rr",
      "execution_count": null,
      "outputs": [
        {
          "output_type": "stream",
          "name": "stdout",
          "text": [
            "Best C for score metric: 1.0526405263157896\n",
            "Best C for balanced accuracy metric: 2.105271052631579\n",
            "Best score metric: 0.9650287299385774\n",
            "Best balanced accuracy metric: 0.6965432460801918\n"
          ]
        }
      ]
    },
    {
      "cell_type": "markdown",
      "source": [
        "Let's try with the MLP classifier"
      ],
      "metadata": {
        "id": "Klvgm5kS2uNT"
      },
      "id": "Klvgm5kS2uNT"
    },
    {
      "cell_type": "code",
      "source": [
        "from sklearn.neural_network import MLPClassifier\n",
        "\n",
        "mlp_clf = MLPClassifier(hidden_layer_sizes=(5, 2), random_state=1, max_iter=2000)\n",
        "\n",
        "mlp_clf.fit(X_train, y_train)"
      ],
      "metadata": {
        "id": "IvRakNeK2tdk",
        "colab": {
          "base_uri": "https://localhost:8080/",
          "height": 75
        },
        "outputId": "56b308e0-7a17-43a9-abff-0ee863913055"
      },
      "id": "IvRakNeK2tdk",
      "execution_count": null,
      "outputs": [
        {
          "output_type": "execute_result",
          "data": {
            "text/plain": [
              "MLPClassifier(hidden_layer_sizes=(5, 2), max_iter=2000, random_state=1)"
            ],
            "text/html": [
              "<style>#sk-container-id-4 {color: black;background-color: white;}#sk-container-id-4 pre{padding: 0;}#sk-container-id-4 div.sk-toggleable {background-color: white;}#sk-container-id-4 label.sk-toggleable__label {cursor: pointer;display: block;width: 100%;margin-bottom: 0;padding: 0.3em;box-sizing: border-box;text-align: center;}#sk-container-id-4 label.sk-toggleable__label-arrow:before {content: \"▸\";float: left;margin-right: 0.25em;color: #696969;}#sk-container-id-4 label.sk-toggleable__label-arrow:hover:before {color: black;}#sk-container-id-4 div.sk-estimator:hover label.sk-toggleable__label-arrow:before {color: black;}#sk-container-id-4 div.sk-toggleable__content {max-height: 0;max-width: 0;overflow: hidden;text-align: left;background-color: #f0f8ff;}#sk-container-id-4 div.sk-toggleable__content pre {margin: 0.2em;color: black;border-radius: 0.25em;background-color: #f0f8ff;}#sk-container-id-4 input.sk-toggleable__control:checked~div.sk-toggleable__content {max-height: 200px;max-width: 100%;overflow: auto;}#sk-container-id-4 input.sk-toggleable__control:checked~label.sk-toggleable__label-arrow:before {content: \"▾\";}#sk-container-id-4 div.sk-estimator input.sk-toggleable__control:checked~label.sk-toggleable__label {background-color: #d4ebff;}#sk-container-id-4 div.sk-label input.sk-toggleable__control:checked~label.sk-toggleable__label {background-color: #d4ebff;}#sk-container-id-4 input.sk-hidden--visually {border: 0;clip: rect(1px 1px 1px 1px);clip: rect(1px, 1px, 1px, 1px);height: 1px;margin: -1px;overflow: hidden;padding: 0;position: absolute;width: 1px;}#sk-container-id-4 div.sk-estimator {font-family: monospace;background-color: #f0f8ff;border: 1px dotted black;border-radius: 0.25em;box-sizing: border-box;margin-bottom: 0.5em;}#sk-container-id-4 div.sk-estimator:hover {background-color: #d4ebff;}#sk-container-id-4 div.sk-parallel-item::after {content: \"\";width: 100%;border-bottom: 1px solid gray;flex-grow: 1;}#sk-container-id-4 div.sk-label:hover label.sk-toggleable__label {background-color: #d4ebff;}#sk-container-id-4 div.sk-serial::before {content: \"\";position: absolute;border-left: 1px solid gray;box-sizing: border-box;top: 0;bottom: 0;left: 50%;z-index: 0;}#sk-container-id-4 div.sk-serial {display: flex;flex-direction: column;align-items: center;background-color: white;padding-right: 0.2em;padding-left: 0.2em;position: relative;}#sk-container-id-4 div.sk-item {position: relative;z-index: 1;}#sk-container-id-4 div.sk-parallel {display: flex;align-items: stretch;justify-content: center;background-color: white;position: relative;}#sk-container-id-4 div.sk-item::before, #sk-container-id-4 div.sk-parallel-item::before {content: \"\";position: absolute;border-left: 1px solid gray;box-sizing: border-box;top: 0;bottom: 0;left: 50%;z-index: -1;}#sk-container-id-4 div.sk-parallel-item {display: flex;flex-direction: column;z-index: 1;position: relative;background-color: white;}#sk-container-id-4 div.sk-parallel-item:first-child::after {align-self: flex-end;width: 50%;}#sk-container-id-4 div.sk-parallel-item:last-child::after {align-self: flex-start;width: 50%;}#sk-container-id-4 div.sk-parallel-item:only-child::after {width: 0;}#sk-container-id-4 div.sk-dashed-wrapped {border: 1px dashed gray;margin: 0 0.4em 0.5em 0.4em;box-sizing: border-box;padding-bottom: 0.4em;background-color: white;}#sk-container-id-4 div.sk-label label {font-family: monospace;font-weight: bold;display: inline-block;line-height: 1.2em;}#sk-container-id-4 div.sk-label-container {text-align: center;}#sk-container-id-4 div.sk-container {/* jupyter's `normalize.less` sets `[hidden] { display: none; }` but bootstrap.min.css set `[hidden] { display: none !important; }` so we also need the `!important` here to be able to override the default hidden behavior on the sphinx rendered scikit-learn.org. See: https://github.com/scikit-learn/scikit-learn/issues/21755 */display: inline-block !important;position: relative;}#sk-container-id-4 div.sk-text-repr-fallback {display: none;}</style><div id=\"sk-container-id-4\" class=\"sk-top-container\"><div class=\"sk-text-repr-fallback\"><pre>MLPClassifier(hidden_layer_sizes=(5, 2), max_iter=2000, random_state=1)</pre><b>In a Jupyter environment, please rerun this cell to show the HTML representation or trust the notebook. <br />On GitHub, the HTML representation is unable to render, please try loading this page with nbviewer.org.</b></div><div class=\"sk-container\" hidden><div class=\"sk-item\"><div class=\"sk-estimator sk-toggleable\"><input class=\"sk-toggleable__control sk-hidden--visually\" id=\"sk-estimator-id-4\" type=\"checkbox\" checked><label for=\"sk-estimator-id-4\" class=\"sk-toggleable__label sk-toggleable__label-arrow\">MLPClassifier</label><div class=\"sk-toggleable__content\"><pre>MLPClassifier(hidden_layer_sizes=(5, 2), max_iter=2000, random_state=1)</pre></div></div></div></div></div>"
            ]
          },
          "metadata": {},
          "execution_count": 30
        }
      ]
    },
    {
      "cell_type": "code",
      "source": [
        "print_classifier_accuracy(mlp_clf, X_train, y_train)"
      ],
      "metadata": {
        "id": "1Rze_foK3Kgb",
        "colab": {
          "base_uri": "https://localhost:8080/"
        },
        "outputId": "728df55b-bc71-4d1d-8307-79188f725961"
      },
      "id": "1Rze_foK3Kgb",
      "execution_count": null,
      "outputs": [
        {
          "output_type": "stream",
          "name": "stdout",
          "text": [
            "Test accuracy for classifier : 0.9733\n",
            "Balanced accuracy for classifier : 0.7798\n"
          ]
        }
      ]
    },
    {
      "cell_type": "markdown",
      "source": [
        "Let's also try with something arguably less complex such as SVC"
      ],
      "metadata": {
        "id": "I5o66rVz4g66"
      },
      "id": "I5o66rVz4g66"
    },
    {
      "cell_type": "code",
      "source": [
        "from sklearn.svm import SVC\n",
        "\n",
        "svc = SVC()\n",
        "\n",
        "svc.fit(X_train, y_train)"
      ],
      "metadata": {
        "id": "PegcUy0b41Yj",
        "colab": {
          "base_uri": "https://localhost:8080/",
          "height": 75
        },
        "outputId": "db264ee6-5a62-4269-fe92-fccda5e2007e"
      },
      "id": "PegcUy0b41Yj",
      "execution_count": null,
      "outputs": [
        {
          "output_type": "execute_result",
          "data": {
            "text/plain": [
              "SVC()"
            ],
            "text/html": [
              "<style>#sk-container-id-5 {color: black;background-color: white;}#sk-container-id-5 pre{padding: 0;}#sk-container-id-5 div.sk-toggleable {background-color: white;}#sk-container-id-5 label.sk-toggleable__label {cursor: pointer;display: block;width: 100%;margin-bottom: 0;padding: 0.3em;box-sizing: border-box;text-align: center;}#sk-container-id-5 label.sk-toggleable__label-arrow:before {content: \"▸\";float: left;margin-right: 0.25em;color: #696969;}#sk-container-id-5 label.sk-toggleable__label-arrow:hover:before {color: black;}#sk-container-id-5 div.sk-estimator:hover label.sk-toggleable__label-arrow:before {color: black;}#sk-container-id-5 div.sk-toggleable__content {max-height: 0;max-width: 0;overflow: hidden;text-align: left;background-color: #f0f8ff;}#sk-container-id-5 div.sk-toggleable__content pre {margin: 0.2em;color: black;border-radius: 0.25em;background-color: #f0f8ff;}#sk-container-id-5 input.sk-toggleable__control:checked~div.sk-toggleable__content {max-height: 200px;max-width: 100%;overflow: auto;}#sk-container-id-5 input.sk-toggleable__control:checked~label.sk-toggleable__label-arrow:before {content: \"▾\";}#sk-container-id-5 div.sk-estimator input.sk-toggleable__control:checked~label.sk-toggleable__label {background-color: #d4ebff;}#sk-container-id-5 div.sk-label input.sk-toggleable__control:checked~label.sk-toggleable__label {background-color: #d4ebff;}#sk-container-id-5 input.sk-hidden--visually {border: 0;clip: rect(1px 1px 1px 1px);clip: rect(1px, 1px, 1px, 1px);height: 1px;margin: -1px;overflow: hidden;padding: 0;position: absolute;width: 1px;}#sk-container-id-5 div.sk-estimator {font-family: monospace;background-color: #f0f8ff;border: 1px dotted black;border-radius: 0.25em;box-sizing: border-box;margin-bottom: 0.5em;}#sk-container-id-5 div.sk-estimator:hover {background-color: #d4ebff;}#sk-container-id-5 div.sk-parallel-item::after {content: \"\";width: 100%;border-bottom: 1px solid gray;flex-grow: 1;}#sk-container-id-5 div.sk-label:hover label.sk-toggleable__label {background-color: #d4ebff;}#sk-container-id-5 div.sk-serial::before {content: \"\";position: absolute;border-left: 1px solid gray;box-sizing: border-box;top: 0;bottom: 0;left: 50%;z-index: 0;}#sk-container-id-5 div.sk-serial {display: flex;flex-direction: column;align-items: center;background-color: white;padding-right: 0.2em;padding-left: 0.2em;position: relative;}#sk-container-id-5 div.sk-item {position: relative;z-index: 1;}#sk-container-id-5 div.sk-parallel {display: flex;align-items: stretch;justify-content: center;background-color: white;position: relative;}#sk-container-id-5 div.sk-item::before, #sk-container-id-5 div.sk-parallel-item::before {content: \"\";position: absolute;border-left: 1px solid gray;box-sizing: border-box;top: 0;bottom: 0;left: 50%;z-index: -1;}#sk-container-id-5 div.sk-parallel-item {display: flex;flex-direction: column;z-index: 1;position: relative;background-color: white;}#sk-container-id-5 div.sk-parallel-item:first-child::after {align-self: flex-end;width: 50%;}#sk-container-id-5 div.sk-parallel-item:last-child::after {align-self: flex-start;width: 50%;}#sk-container-id-5 div.sk-parallel-item:only-child::after {width: 0;}#sk-container-id-5 div.sk-dashed-wrapped {border: 1px dashed gray;margin: 0 0.4em 0.5em 0.4em;box-sizing: border-box;padding-bottom: 0.4em;background-color: white;}#sk-container-id-5 div.sk-label label {font-family: monospace;font-weight: bold;display: inline-block;line-height: 1.2em;}#sk-container-id-5 div.sk-label-container {text-align: center;}#sk-container-id-5 div.sk-container {/* jupyter's `normalize.less` sets `[hidden] { display: none; }` but bootstrap.min.css set `[hidden] { display: none !important; }` so we also need the `!important` here to be able to override the default hidden behavior on the sphinx rendered scikit-learn.org. See: https://github.com/scikit-learn/scikit-learn/issues/21755 */display: inline-block !important;position: relative;}#sk-container-id-5 div.sk-text-repr-fallback {display: none;}</style><div id=\"sk-container-id-5\" class=\"sk-top-container\"><div class=\"sk-text-repr-fallback\"><pre>SVC()</pre><b>In a Jupyter environment, please rerun this cell to show the HTML representation or trust the notebook. <br />On GitHub, the HTML representation is unable to render, please try loading this page with nbviewer.org.</b></div><div class=\"sk-container\" hidden><div class=\"sk-item\"><div class=\"sk-estimator sk-toggleable\"><input class=\"sk-toggleable__control sk-hidden--visually\" id=\"sk-estimator-id-5\" type=\"checkbox\" checked><label for=\"sk-estimator-id-5\" class=\"sk-toggleable__label sk-toggleable__label-arrow\">SVC</label><div class=\"sk-toggleable__content\"><pre>SVC()</pre></div></div></div></div></div>"
            ]
          },
          "metadata": {},
          "execution_count": 32
        }
      ]
    },
    {
      "cell_type": "code",
      "source": [
        "print_classifier_accuracy(svc, X_train, y_train)"
      ],
      "metadata": {
        "id": "2-gO1DiJ4-dj",
        "colab": {
          "base_uri": "https://localhost:8080/"
        },
        "outputId": "9ad79158-9295-4cc0-e2ed-59d98bde6255"
      },
      "id": "2-gO1DiJ4-dj",
      "execution_count": null,
      "outputs": [
        {
          "output_type": "stream",
          "name": "stdout",
          "text": [
            "Test accuracy for classifier : 0.9724\n",
            "Balanced accuracy for classifier : 0.7282\n"
          ]
        }
      ]
    },
    {
      "cell_type": "markdown",
      "source": [
        "Amongst these three, the one with best performance is MLP"
      ],
      "metadata": {
        "id": "jBkcl7vl5JVh"
      },
      "id": "jBkcl7vl5JVh"
    },
    {
      "cell_type": "markdown",
      "source": [
        "## Model Testing\n",
        "\n",
        "Let's see how our MLP model behave on the test dataset"
      ],
      "metadata": {
        "id": "4NrZlUPJ5OOL"
      },
      "id": "4NrZlUPJ5OOL"
    },
    {
      "cell_type": "code",
      "source": [
        "print_classifier_accuracy(mlp_clf, X_validation, y_validation)"
      ],
      "metadata": {
        "id": "KXuJkNJ25Y-m",
        "colab": {
          "base_uri": "https://localhost:8080/"
        },
        "outputId": "19515e2a-5072-4541-8cd7-7bee91405ece"
      },
      "id": "KXuJkNJ25Y-m",
      "execution_count": null,
      "outputs": [
        {
          "output_type": "stream",
          "name": "stdout",
          "text": [
            "Score for classifier : 0.8893\n",
            "Balanced accuracy for classifier : 0.5774\n",
            "Precision score for classifier : 0.5730\n",
            "Recall score for classifier : 0.1716\n",
            "F1-score for classifier : 0.2642\n",
            "ROC-AUC score for classifier : 0.2642\n"
          ]
        }
      ]
    },
    {
      "cell_type": "markdown",
      "source": [
        "Let's plot an ROC curve"
      ],
      "metadata": {
        "id": "0VUHX8bt9Itd"
      },
      "id": "0VUHX8bt9Itd"
    },
    {
      "cell_type": "code",
      "source": [
        "y_pred_proba = mlp_clf.predict_proba(X_validation)[::,1]\n",
        "fpr, tpr, _ = metrics.roc_curve(y_validation,  y_pred_proba)\n",
        "auc = metrics.roc_auc_score(y_validation, y_pred_proba)\n",
        "\n",
        "#create ROC curve\n",
        "plt.plot(fpr,tpr,label=\"AUC=\"+str(auc))\n",
        "plt.ylabel('True Positive Rate')\n",
        "plt.xlabel('False Positive Rate')\n",
        "plt.legend(loc=4)\n",
        "plt.show()\n"
      ],
      "metadata": {
        "colab": {
          "base_uri": "https://localhost:8080/",
          "height": 279
        },
        "id": "j1HJimVB9KNW",
        "outputId": "79700bca-5f77-42c9-9a85-c6ecb4a1429a"
      },
      "id": "j1HJimVB9KNW",
      "execution_count": null,
      "outputs": [
        {
          "output_type": "display_data",
          "data": {
            "text/plain": [
              "<Figure size 432x288 with 1 Axes>"
            ],
            "image/png": "[encoded data removed]"
          },
          "metadata": {
            "needs_background": "light"
          }
        }
      ]
    },
    {
      "cell_type": "markdown",
      "source": [
        "We can see that the curve is more leaned towards the top-left corner of the plot. That is a good indicator that the classifier is doing a good job. Also, the AUC is 0.7774, a value that confirms it."
      ],
      "metadata": {
        "id": "foODj4zR9u-u"
      },
      "id": "foODj4zR9u-u"
    },
    {
      "cell_type": "markdown",
      "source": [
        "## Predicting other actions\n",
        "\n",
        "By changing `target_column` we can easily get the new model for the new target column"
      ],
      "metadata": {
        "id": "8olD3zGC_FPv"
      },
      "id": "8olD3zGC_FPv"
    },
    {
      "cell_type": "code",
      "source": [
        "new_targets = ['label:SITTING', 'label:BICYCLING']\n",
        "\n",
        "for t in new_targets:\n",
        "  print(f'Training for column: {t}')\n",
        "  target_column = t\n",
        "  X_train, y_train = get_training_dataset()\n",
        "\n",
        "  mlp = MLPClassifier(hidden_layer_sizes=(5, 2), random_state=1, max_iter=2000)\n",
        "  mlp.fit(X_train, y_train)\n",
        "\n",
        "  X_test, y_test = get_testing_dataset()\n",
        "\n",
        "  print_classifier_accuracy(mlp, X_test, y_test, label='MLP')\n",
        "  print()"
      ],
      "metadata": {
        "colab": {
          "base_uri": "https://localhost:8080/"
        },
        "id": "epl2b7ek_iRn",
        "outputId": "1bdfb257-1638-4b1d-84f0-ab9d2418c483"
      },
      "id": "epl2b7ek_iRn",
      "execution_count": null,
      "outputs": [
        {
          "output_type": "stream",
          "name": "stdout",
          "text": [
            "Training for column: label:SITTING\n",
            "Score for classifier MLP: 0.6299\n",
            "Balanced accuracy for classifier MLP: 0.6313\n",
            "Precision score for classifier MLP: 0.5993\n",
            "Recall score for classifier MLP: 0.6568\n",
            "F1-score for classifier MLP: 0.6267\n",
            "ROC-AUC score for classifier MLP: 0.6267\n",
            "\n",
            "Training for column: label:BICYCLING\n",
            "Score for classifier MLP: 0.9737\n",
            "Balanced accuracy for classifier MLP: 0.6583\n",
            "Precision score for classifier MLP: 0.6033\n",
            "Recall score for classifier MLP: 0.3230\n",
            "F1-score for classifier MLP: 0.4207\n",
            "ROC-AUC score for classifier MLP: 0.4207\n",
            "\n"
          ]
        }
      ]
    }
  ],
  "metadata": {
    "kernelspec": {
      "display_name": "Python 3",
      "language": "python",
      "name": "python3"
    },
    "language_info": {
      "codemirror_mode": {
        "name": "ipython",
        "version": 3
      },
      "file_extension": ".py",
      "mimetype": "text/x-python",
      "name": "python",
      "nbconvert_exporter": "python",
      "pygments_lexer": "ipython3",
      "version": "3.8.5"
    },
    "colab": {
      "provenance": []
    }
  },
  "nbformat": 4,
  "nbformat_minor": 5
}